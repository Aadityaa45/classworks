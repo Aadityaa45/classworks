{
 "cells": [
  {
   "cell_type": "code",
   "execution_count": 5,
   "id": "fe965f4d-f756-441a-a21a-e466b5033643",
   "metadata": {},
   "outputs": [
    {
     "name": "stdin",
     "output_type": "stream",
     "text": [
      "enter the number of rows:- 5\n"
     ]
    },
    {
     "name": "stdout",
     "output_type": "stream",
     "text": [
      "*\n",
      "**\n",
      "***\n",
      "****\n",
      "*****\n",
      "******\n"
     ]
    }
   ],
   "source": [
    "n = int(input(\"enter the number of rows:-\"))\n",
    "for i in range(n+1):\n",
    "    for j in range(i+1):\n",
    "            print(\"*\",end='')\n",
    "    print()\n",
    "        "
   ]
  },
  {
   "cell_type": "code",
   "execution_count": 6,
   "id": "50f86305-a76d-40fe-a88c-cdb28d760cea",
   "metadata": {},
   "outputs": [
    {
     "name": "stdin",
     "output_type": "stream",
     "text": [
      "enter the number:- 5\n"
     ]
    },
    {
     "name": "stdout",
     "output_type": "stream",
     "text": [
      "*\n",
      "**\n",
      "***\n",
      "****\n",
      "*****\n"
     ]
    }
   ],
   "source": [
    "n = int(input(\"enter the number:-\"))\n",
    "i=1\n",
    "while(i<=n):\n",
    "    j=1\n",
    "    while(j<=i):\n",
    "        print(\"*\",end='')\n",
    "        j=j+1\n",
    "    print()\n",
    "    i=i+1"
   ]
  },
  {
   "cell_type": "code",
   "execution_count": 11,
   "id": "f995e960-4cb5-44c6-a774-32b9d192b1e5",
   "metadata": {},
   "outputs": [
    {
     "name": "stdin",
     "output_type": "stream",
     "text": [
      "enter the numbr of rows:- 5\n"
     ]
    },
    {
     "name": "stdout",
     "output_type": "stream",
     "text": [
      "*\n",
      "***\n",
      "*****\n",
      "*******\n",
      "*********\n"
     ]
    }
   ],
   "source": [
    "n = int(input(\"enter the numbr of rows:-\"))\n",
    "k=1\n",
    "for i in range(1,n+1):\n",
    "    for j in range(1,k+1):\n",
    "        print(\"*\",end='')\n",
    "    k=k+2\n",
    "    print()"
   ]
  },
  {
   "cell_type": "code",
   "execution_count": 2,
   "id": "d19115c1-d115-4314-b22f-c457675efe6a",
   "metadata": {},
   "outputs": [
    {
     "name": "stdin",
     "output_type": "stream",
     "text": [
      "enter the number of raws:- 5\n"
     ]
    },
    {
     "name": "stdout",
     "output_type": "stream",
     "text": [
      "*\n",
      "***\n",
      "*****\n",
      "*******\n",
      "*********\n"
     ]
    }
   ],
   "source": [
    "n = int(input(\"enter the number of raws:-\"))\n",
    "i=1\n",
    "k=1\n",
    "while(i<=n):\n",
    "    j=1\n",
    "    while(j<=k):\n",
    "        print(\"*\",end='')\n",
    "        j=j+1\n",
    "    k=k+2\n",
    "    print()\n",
    "    i=i+1"
   ]
  },
  {
   "cell_type": "code",
   "execution_count": 6,
   "id": "7768e68c-bac4-4e4f-968b-7bbb8440bfc5",
   "metadata": {},
   "outputs": [
    {
     "name": "stdin",
     "output_type": "stream",
     "text": [
      "enter the number pf rows:- 5\n"
     ]
    },
    {
     "name": "stdout",
     "output_type": "stream",
     "text": [
      "*****\n",
      "****\n",
      "***\n",
      "**\n",
      "*\n"
     ]
    }
   ],
   "source": [
    "n = int(input(\"enter the number pf rows:-\"))\n",
    "for i in range(1,n+1):\n",
    "    for j in range(1,n+1):\n",
    "        if(j<=6-i):\n",
    "            print(\"*\",end='')\n",
    "    print()"
   ]
  },
  {
   "cell_type": "code",
   "execution_count": 7,
   "id": "3baedd9c-283d-4322-a5cc-904bff4ac537",
   "metadata": {},
   "outputs": [
    {
     "name": "stdin",
     "output_type": "stream",
     "text": [
      "enter the number pf rows:- 5\n"
     ]
    },
    {
     "name": "stdout",
     "output_type": "stream",
     "text": [
      "****\n",
      "***\n",
      "**\n",
      "*\n",
      "\n"
     ]
    }
   ],
   "source": [
    "n = int(input(\"enter the number pf rows:-\"))\n",
    "for i in range(1,n+1):\n",
    "    for j in range(1,6-i):\n",
    "            print(\"*\",end='')\n",
    "    print()"
   ]
  },
  {
   "cell_type": "code",
   "execution_count": 8,
   "id": "0c846322-5a2a-4275-8c83-155d473b492d",
   "metadata": {},
   "outputs": [
    {
     "name": "stdin",
     "output_type": "stream",
     "text": [
      "enter the numbr of raws:- 5\n"
     ]
    },
    {
     "name": "stdout",
     "output_type": "stream",
     "text": [
      "*****\n",
      "****\n",
      "***\n",
      "**\n",
      "*\n"
     ]
    }
   ],
   "source": [
    "n = int(input(\"enter the numbr of raws:-\"))\n",
    "i=1\n",
    "while(i<=n):\n",
    "    j=1\n",
    "    while(j<=6-i):\n",
    "        print(\"*\",end='')\n",
    "        j=j+1\n",
    "    print()\n",
    "    i=i+1"
   ]
  },
  {
   "cell_type": "code",
   "execution_count": 4,
   "id": "eabd7adc-b46c-4a81-b57a-b3400aab1c66",
   "metadata": {},
   "outputs": [
    {
     "name": "stdin",
     "output_type": "stream",
     "text": [
      "enter the numbre of raws: 5\n"
     ]
    },
    {
     "name": "stdout",
     "output_type": "stream",
     "text": [
      "    * \n",
      "   * * \n",
      "  * * * \n",
      " * * * * \n",
      "* * * * * \n"
     ]
    }
   ],
   "source": [
    "n = int(input(\"enter the numbre of raws:\"))\n",
    "for i in range(0,n):\n",
    "    for j in range(0,n-i-1):\n",
    "        print(end=\" \")\n",
    "    for j in range(0,i+1):\n",
    "        print(\"*\",end=\" \")\n",
    "    print()"
   ]
  },
  {
   "cell_type": "code",
   "execution_count": 7,
   "id": "dd187d2f-30b6-4dbf-87a3-48918c512d9d",
   "metadata": {},
   "outputs": [
    {
     "name": "stdin",
     "output_type": "stream",
     "text": [
      "enter the number of rows: 5\n"
     ]
    },
    {
     "name": "stdout",
     "output_type": "stream",
     "text": [
      "     * * * * \n",
      "    * * * * * \n",
      "   * * * * * * \n",
      "  * * * * * * * \n",
      " * * * * * * * * \n",
      "* * * * * * * * * \n"
     ]
    }
   ],
   "source": [
    "n = int(input(\"enter the number of rows:\"))\n",
    "\n",
    "i=0\n",
    "while(i<=n):\n",
    "    j=0\n",
    "    k=0\n",
    "    while(k<=n-i-1):\n",
    "        print(end=\" \")\n",
    "        k=k+1\n",
    "    while(j<=3+i):\n",
    "        print(\"*\",end=\" \")\n",
    "        j=j+1\n",
    "    print()\n",
    "    i=i+1\n",
    "    "
   ]
  },
  {
   "cell_type": "code",
   "execution_count": 13,
   "id": "99bec2e3-f73b-453a-8d83-3405de08477f",
   "metadata": {},
   "outputs": [
    {
     "name": "stdout",
     "output_type": "stream",
     "text": [
      " * * *  \n",
      "*    * \n",
      "*    * \n",
      "* * * * * \n",
      "*    * \n",
      "*    * \n",
      "*    * \n"
     ]
    }
   ],
   "source": [
    "for raw in range(7):\n",
    "    for column in range(5):\n",
    "        if((column==0 or column==4) and raw!=0) or ((raw==0 or raw==3) and (column>0 and column<4)):\n",
    "            \n",
    "            print(\"*\",end=\" \")\n",
    "        else:\n",
    "            print(end=\" \")\n",
    "    print()"
   ]
  },
  {
   "cell_type": "code",
   "execution_count": 18,
   "id": "f9d77879-fde9-4727-b29e-3403ddce01ca",
   "metadata": {},
   "outputs": [
    {
     "name": "stdout",
     "output_type": "stream",
     "text": [
      " * * *  \n",
      "*    * \n",
      "*    * \n",
      " * * *  \n",
      "*    * \n",
      "*    * \n",
      " * * *  \n"
     ]
    }
   ],
   "source": [
    "for raw in range(7):\n",
    "    for col in range(5):\n",
    "        if(((col==0 or col==4) and (raw!=0 and raw!=3 and raw!=6)) or ((raw==0 or raw==3 or raw==6) and (col>0 and col<4))):\n",
    "            print(\"*\",end=\" \")\n",
    "        else:\n",
    "            print(end=\" \")\n",
    "    print()\n",
    "    "
   ]
  },
  {
   "cell_type": "code",
   "execution_count": 19,
   "id": "7b10d254-a689-4e02-bfbc-f80fe0291ce5",
   "metadata": {},
   "outputs": [
    {
     "name": "stdin",
     "output_type": "stream",
     "text": [
      "enter the number of raws:- 7\n"
     ]
    },
    {
     "name": "stdout",
     "output_type": "stream",
     "text": [
      "\n",
      "* \n",
      "* \n",
      "\n",
      "* \n",
      "* \n",
      "\n",
      "* \n"
     ]
    }
   ],
   "source": [
    "n = int(input(\"enter the number of raws:-\"))\n",
    "raw=0\n",
    "while(raw<=n):\n",
    "    col=0\n",
    "    while(((col==0 or col==4) and (raw!=0 and raw!=3 and raw!=6)) or ((raw==0 or raw==3 or raw==6) and (col>0 and col<4))):\n",
    "        print(\"*\",end=\" \")\n",
    "        col=col+1\n",
    "    print()\n",
    "    raw=raw+1"
   ]
  },
  {
   "cell_type": "code",
   "execution_count": 23,
   "id": "79a77595-4bf7-4bb0-a21d-c6366505ccfb",
   "metadata": {},
   "outputs": [
    {
     "name": "stdout",
     "output_type": "stream",
     "text": [
      "* * * * * \n",
      "*     \n",
      "*     \n",
      "*     \n",
      "*     \n",
      "*     \n",
      "* * * * * \n"
     ]
    }
   ],
   "source": [
    "for raw in range(7):\n",
    "    for col in range(5):\n",
    "        if((col==0) or ((raw==0 or raw==6) and col>0)):\n",
    "            print(\"*\",end=\" \")\n",
    "        else:\n",
    "            print(end=\" \")\n",
    "    print()"
   ]
  },
  {
   "cell_type": "code",
   "execution_count": 28,
   "id": "2f525565-84d9-4456-abe9-1708d9c47787",
   "metadata": {},
   "outputs": [
    {
     "name": "stdout",
     "output_type": "stream",
     "text": [
      "* * * * *  \n",
      "*      \n",
      "*      \n",
      "*    *  \n",
      "*    *  \n",
      "*    *  \n",
      "* * * * *  \n"
     ]
    }
   ],
   "source": [
    "for raw in range(0,7):\n",
    "    for col in range(0,6):\n",
    "        if((col==0 or (col==4 and (raw!=1 and raw!=2))) or ((raw==0 or raw==6) and col>0 and col<4)):\n",
    "            print(\"*\",end=\" \")\n",
    "        else:\n",
    "            print(end=\" \")\n",
    "    print()"
   ]
  },
  {
   "cell_type": "code",
   "execution_count": null,
   "id": "2d61e0a7-e3dd-42b0-8e77-74765037fb2b",
   "metadata": {},
   "outputs": [],
   "source": []
  },
  {
   "cell_type": "code",
   "execution_count": 1,
   "id": "161f3590-ce7b-4f4a-bc93-59d60cece4aa",
   "metadata": {},
   "outputs": [
    {
     "name": "stdin",
     "output_type": "stream",
     "text": [
      "enter the range to check the prime numbers upto:- 20\n"
     ]
    },
    {
     "name": "stdout",
     "output_type": "stream",
     "text": [
      "3\n"
     ]
    }
   ],
   "source": [
    "n = int(input(\"enter the range to check the prime numbers upto:-\"))\n",
    "for i in range(3,n):\n",
    "    if(n%i==0):\n",
    "        break\n",
    "    else:\n",
    "        print(i)"
   ]
  },
  {
   "cell_type": "code",
   "execution_count": 2,
   "id": "610acb6b-4b92-4ce6-87ef-a1825db24180",
   "metadata": {},
   "outputs": [
    {
     "name": "stdout",
     "output_type": "stream",
     "text": [
      "Prime numbers between 25 and 50 are:\n",
      "29\n",
      "31\n",
      "37\n",
      "41\n",
      "43\n",
      "47\n"
     ]
    }
   ],
   "source": [
    "start = 25\n",
    "end = 50\n",
    "print(\"Prime numbers between\", start, \"and\", end, \"are:\")\n",
    "\n",
    "for num in range(start, end + 1):\n",
    "    # all prime numbers are greater than 1\n",
    "    # if number is less than or equal to 1, it is not prime\n",
    "    if num > 1:\n",
    "        for i in range(2, num):\n",
    "            # check for factors\n",
    "            if (num % i) == 0:\n",
    "                # not a prime number so break inner loop and\n",
    "                # look for next number\n",
    "                break\n",
    "        else:\n",
    "            print(num)"
   ]
  },
  {
   "cell_type": "code",
   "execution_count": 4,
   "id": "3fa00516-1291-4cb6-b729-3c8e89373a2f",
   "metadata": {},
   "outputs": [
    {
     "name": "stdin",
     "output_type": "stream",
     "text": [
      "enter the number of raws: 7\n"
     ]
    },
    {
     "name": "stdout",
     "output_type": "stream",
     "text": [
      "*    *\n",
      "*   * \n",
      "*  *  \n",
      "* *   \n",
      "*  *   \n",
      "*   *  \n",
      "*    * \n"
     ]
    }
   ],
   "source": [
    "n = int(input(\"enter the number of raws:\"))\n",
    "i=0\n",
    "j=4\n",
    "for raw in range(n):\n",
    "    for col in range(0,5):\n",
    "        if col==0 or (raw==col+2 and col>1):\n",
    "            print(\"*\",end=\" \")\n",
    "        elif(raw==i and col==j):\n",
    "            print(\"*\",end=\"\")\n",
    "            i=i+1\n",
    "            j=j-1\n",
    "        \n",
    "        \n",
    "        else:\n",
    "            print(end=\" \")\n",
    "    print()"
   ]
  },
  {
   "cell_type": "code",
   "execution_count": 13,
   "id": "98fbdb02-8d60-425a-a1b5-9ebde5deb996",
   "metadata": {},
   "outputs": [
    {
     "name": "stdin",
     "output_type": "stream",
     "text": [
      "enter the number of raws: 7\n"
     ]
    },
    {
     "name": "stdout",
     "output_type": "stream",
     "text": [
      "*      * \n",
      "* *     * \n",
      "*  *    * \n",
      "*   *   * \n",
      "*      * \n",
      "*      * \n",
      "*      * \n"
     ]
    }
   ],
   "source": [
    "n = int(input(\"enter the number of raws:\"))\n",
    "for raw in range(n):\n",
    "    for col in range(n):\n",
    "        if (col==0 or col==6) or (col==raw) and (col>0 and col<4) or (raw==1 and col==5) and (raw==2 and col==4):\n",
    "            print(\"*\",end=\" \")\n",
    "        else:\n",
    "            print(end=\" \")\n",
    "    print()\n",
    "        "
   ]
  },
  {
   "cell_type": "code",
   "execution_count": 14,
   "id": "4cf99ebf-4032-4ee0-a6bf-0f38835c2914",
   "metadata": {},
   "outputs": [
    {
     "name": "stdin",
     "output_type": "stream",
     "text": [
      "enter the number of raws: 6\n"
     ]
    },
    {
     "name": "stdout",
     "output_type": "stream",
     "text": [
      "*     * \n",
      "* *    * \n",
      "*  *   * \n",
      "*   *  * \n",
      "*    * * \n",
      "*     * \n"
     ]
    }
   ],
   "source": [
    "n = int(input(\"enter the number of raws:\"))\n",
    "for raw in range(n):\n",
    "    for col in range(n):\n",
    "        if (col==0 or col==5) or (col==raw) and (col>0 and col<5):\n",
    "            print(\"*\",end=\" \")\n",
    "        else:\n",
    "            print(end=\" \")\n",
    "    print()\n",
    "        "
   ]
  },
  {
   "cell_type": "code",
   "execution_count": 16,
   "id": "174f12a0-12c3-4c2e-9eae-e64c10314cc6",
   "metadata": {},
   "outputs": [
    {
     "name": "stdin",
     "output_type": "stream",
     "text": [
      "enter the number of raws: 7\n"
     ]
    },
    {
     "name": "stdout",
     "output_type": "stream",
     "text": [
      "* * * *   \n",
      "*       * \n",
      "*       * \n",
      "* * * *   \n",
      "*       * \n",
      "*       * \n",
      "*       * \n"
     ]
    }
   ],
   "source": [
    "n = int(input(\"enter the number of raws:\"))\n",
    "for raw in range(n):\n",
    "    for col in range(5):\n",
    "        if col==0 or (col==4) and (raw!=0 and raw!=3) or (raw==0 and(col>0 and col<4)) or (raw==3 and(col>0 and col<4)):\n",
    "            print(\"*\",end=\" \")\n",
    "        else:\n",
    "            print(end=\"  \")\n",
    "    print()"
   ]
  },
  {
   "cell_type": "code",
   "execution_count": 21,
   "id": "f1f49e1b-20a8-4765-8408-6e150406b4ca",
   "metadata": {},
   "outputs": [
    {
     "name": "stdin",
     "output_type": "stream",
     "text": [
      "enter the numbre of raws:- 5\n"
     ]
    },
    {
     "name": "stdout",
     "output_type": "stream",
     "text": [
      "* * * * * \n",
      "* * * * * \n",
      "* * * * * \n",
      "* * * * * \n",
      "* * * * * \n"
     ]
    }
   ],
   "source": [
    "n = int(input(\"enter the numbre of raws:-\"))\n",
    "for raw in range(n):\n",
    "    for column in range(n):\n",
    "        if (col==4 or raw==0) or (raw==col):\n",
    "            print(\"*\",end=\" \")\n",
    "        else:\n",
    "            print(end=\" \")\n",
    "    print()\n",
    "        "
   ]
  },
  {
   "cell_type": "code",
   "execution_count": null,
   "id": "356425f9-5284-436b-8d87-1dcd45343c73",
   "metadata": {},
   "outputs": [],
   "source": []
  }
 ],
 "metadata": {
  "kernelspec": {
   "display_name": "Python 3 (ipykernel)",
   "language": "python",
   "name": "python3"
  },
  "language_info": {
   "codemirror_mode": {
    "name": "ipython",
    "version": 3
   },
   "file_extension": ".py",
   "mimetype": "text/x-python",
   "name": "python",
   "nbconvert_exporter": "python",
   "pygments_lexer": "ipython3",
   "version": "3.12.2"
  }
 },
 "nbformat": 4,
 "nbformat_minor": 5
}
