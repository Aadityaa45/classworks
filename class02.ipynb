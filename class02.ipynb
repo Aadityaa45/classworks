{
 "cells": [
  {
   "cell_type": "code",
   "execution_count": 1,
   "id": "d3b32efe-741a-4ea8-982f-70f7b01e274f",
   "metadata": {},
   "outputs": [
    {
     "name": "stdin",
     "output_type": "stream",
     "text": [
      "enter the value of a 12\n",
      "enter the value of b 34\n",
      "enter the value of c 2\n"
     ]
    },
    {
     "name": "stdout",
     "output_type": "stream",
     "text": [
      "b is greater\n"
     ]
    }
   ],
   "source": [
    "a = int(input(\"enter the value of a\"))\n",
    "b = int(input(\"enter the value of b\"))\n",
    "c = int(input(\"enter the value of c\"))\n",
    "if(a>b and a>c):\n",
    "    print(\"a is greater\")\n",
    "if(b>a and b>c):\n",
    "    print(\"b is greater\")\n",
    "if(c>a and c>b):\n",
    "    print(\"c is greater\")\n",
    "##this is a code to find greatest among 3numbers"
   ]
  },
  {
   "cell_type": "code",
   "execution_count": 2,
   "id": "4f6dcfc4-9efb-497d-b35b-59a0fc8e9ade",
   "metadata": {},
   "outputs": [
    {
     "name": "stdin",
     "output_type": "stream",
     "text": [
      "enter the number:- 45\n"
     ]
    },
    {
     "name": "stdout",
     "output_type": "stream",
     "text": [
      "given no. is odd\n"
     ]
    }
   ],
   "source": [
    "##this is a code to find even and odd\n",
    "a = int(input(\"enter the number:-\"))\n",
    "if(a%2==0):\n",
    "    print(\"given no. is even\")\n",
    "else:\n",
    "    print(\"given no. is odd\")"
   ]
  },
  {
   "cell_type": "code",
   "execution_count": 3,
   "id": "ba7c79d8-737b-4731-8510-e625f45a4953",
   "metadata": {},
   "outputs": [
    {
     "name": "stdin",
     "output_type": "stream",
     "text": [
      "enter the number:- 45\n"
     ]
    },
    {
     "name": "stdout",
     "output_type": "stream",
     "text": [
      "it is a prime number\n"
     ]
    }
   ],
   "source": [
    "#program to check given number is prime or not\n",
    "n = int(input(\"enter the number:-\"))\n",
    "count = 0\n",
    "div = 2\n",
    "while(div<2):\n",
    "    if(n%div==0):\n",
    "        count = count + 1\n",
    "        div = div + 1\n",
    "if(count>0):\n",
    "    print(\"not a prime number\")\n",
    "else:\n",
    "    print(\"it is a prime number\")\n",
    "              "
   ]
  },
  {
   "cell_type": "code",
   "execution_count": null,
   "id": "a461344b-8998-4e83-bfc9-cd4b96d19147",
   "metadata": {},
   "outputs": [],
   "source": []
  }
 ],
 "metadata": {
  "kernelspec": {
   "display_name": "Python 3 (ipykernel)",
   "language": "python",
   "name": "python3"
  },
  "language_info": {
   "codemirror_mode": {
    "name": "ipython",
    "version": 3
   },
   "file_extension": ".py",
   "mimetype": "text/x-python",
   "name": "python",
   "nbconvert_exporter": "python",
   "pygments_lexer": "ipython3",
   "version": "3.12.2"
  }
 },
 "nbformat": 4,
 "nbformat_minor": 5
}
