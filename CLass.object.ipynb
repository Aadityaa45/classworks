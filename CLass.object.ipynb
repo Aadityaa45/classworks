{
 "cells": [
  {
   "cell_type": "code",
   "execution_count": 5,
   "id": "8da30b5f-e9cd-4726-acc1-7e887b93cbf7",
   "metadata": {},
   "outputs": [
    {
     "name": "stdin",
     "output_type": "stream",
     "text": [
      "choose the no. of chocolate you wants 2\n"
     ]
    },
    {
     "name": "stdout",
     "output_type": "stream",
     "text": [
      "[1, 1, 1, 1, 1, 1, 1]\n"
     ]
    }
   ],
   "source": [
    "lis = [1,1,1,1,1,1,1,1,1]\n",
    "choose = int(input(\"choose the no. of chocolate you wants\"))\n",
    "for i in range(0,choose):\n",
    "    lis.remove(1)\n",
    "print(lis)"
   ]
  },
  {
   "cell_type": "code",
   "execution_count": 17,
   "id": "83703a27-c5a8-4414-8e3e-362e69901c24",
   "metadata": {},
   "outputs": [
    {
     "ename": "IndentationError",
     "evalue": "expected an indented block after 'if' statement on line 3 (793399771.py, line 4)",
     "output_type": "error",
     "traceback": [
      "\u001b[1;36m  Cell \u001b[1;32mIn[17], line 4\u001b[1;36m\u001b[0m\n\u001b[1;33m    except:\u001b[0m\n\u001b[1;37m    ^\u001b[0m\n\u001b[1;31mIndentationError\u001b[0m\u001b[1;31m:\u001b[0m expected an indented block after 'if' statement on line 3\n"
     ]
    }
   ],
   "source": [
    "try:\n",
    "    a = int(input(\"enter the number\"))\n",
    "except:\n",
    "    print(\"enter integer\")\n",
    "sum = 0\n",
    "sum = sum+a\n",
    "print(sum)"
   ]
  },
  {
   "cell_type": "code",
   "execution_count": 35,
   "id": "8ea075fd-1d26-4f11-be7b-aace4b40d8a0",
   "metadata": {},
   "outputs": [
    {
     "name": "stdin",
     "output_type": "stream",
     "text": [
      "enter the base number: 10\n",
      "enter the exponential value: 5\n"
     ]
    },
    {
     "ename": "TypeError",
     "evalue": "power() missing 2 required positional arguments: 'base' and 'exponent'",
     "output_type": "error",
     "traceback": [
      "\u001b[1;31m---------------------------------------------------------------------------\u001b[0m",
      "\u001b[1;31mTypeError\u001b[0m                                 Traceback (most recent call last)",
      "Cell \u001b[1;32mIn[35], line 11\u001b[0m\n\u001b[0;32m      9\u001b[0m \u001b[38;5;28;01mif\u001b[39;00m(expo\u001b[38;5;241m<\u001b[39m\u001b[38;5;241m0\u001b[39m):\n\u001b[0;32m     10\u001b[0m     \u001b[38;5;28;01mraise\u001b[39;00m \u001b[38;5;167;01mValueError\u001b[39;00m(\u001b[38;5;124m\"\u001b[39m\u001b[38;5;124mthe base can not be negative\u001b[39m\u001b[38;5;124m\"\u001b[39m)\n\u001b[1;32m---> 11\u001b[0m x \u001b[38;5;241m=\u001b[39m \u001b[43mpower\u001b[49m\u001b[43m(\u001b[49m\u001b[43mbase\u001b[49m\u001b[43m,\u001b[49m\u001b[43mexpo\u001b[49m\u001b[43m)\u001b[49m\n\u001b[0;32m     12\u001b[0m \u001b[38;5;28mprint\u001b[39m(x)\n",
      "Cell \u001b[1;32mIn[35], line 5\u001b[0m, in \u001b[0;36mpower\u001b[1;34m(base, exponent)\u001b[0m\n\u001b[0;32m      3\u001b[0m \u001b[38;5;28;01mif\u001b[39;00m(exponent\u001b[38;5;241m==\u001b[39m\u001b[38;5;241m0\u001b[39m):\n\u001b[0;32m      4\u001b[0m     \u001b[38;5;28;01mreturn\u001b[39;00m \u001b[38;5;241m1\u001b[39m\n\u001b[1;32m----> 5\u001b[0m \u001b[38;5;28mprint\u001b[39m(\u001b[38;5;124m'\u001b[39m\u001b[38;5;124mtime taken is\u001b[39m\u001b[38;5;124m'\u001b[39m,\u001b[43mtimeit\u001b[49m\u001b[43m(\u001b[49m\u001b[43mpower\u001b[49m\u001b[43m)\u001b[49m)\n\u001b[0;32m      6\u001b[0m \u001b[38;5;28;01mreturn\u001b[39;00m base\u001b[38;5;241m*\u001b[39mpower(base,exponent\u001b[38;5;241m-\u001b[39m\u001b[38;5;241m1\u001b[39m)\n",
      "File \u001b[1;32m~\\AppData\\Local\\Programs\\Python\\Python312\\Lib\\timeit.py:237\u001b[0m, in \u001b[0;36mtimeit\u001b[1;34m(stmt, setup, timer, number, globals)\u001b[0m\n\u001b[0;32m    234\u001b[0m \u001b[38;5;28;01mdef\u001b[39;00m \u001b[38;5;21mtimeit\u001b[39m(stmt\u001b[38;5;241m=\u001b[39m\u001b[38;5;124m\"\u001b[39m\u001b[38;5;124mpass\u001b[39m\u001b[38;5;124m\"\u001b[39m, setup\u001b[38;5;241m=\u001b[39m\u001b[38;5;124m\"\u001b[39m\u001b[38;5;124mpass\u001b[39m\u001b[38;5;124m\"\u001b[39m, timer\u001b[38;5;241m=\u001b[39mdefault_timer,\n\u001b[0;32m    235\u001b[0m            number\u001b[38;5;241m=\u001b[39mdefault_number, \u001b[38;5;28mglobals\u001b[39m\u001b[38;5;241m=\u001b[39m\u001b[38;5;28;01mNone\u001b[39;00m):\n\u001b[0;32m    236\u001b[0m \u001b[38;5;250m    \u001b[39m\u001b[38;5;124;03m\"\"\"Convenience function to create Timer object and call timeit method.\"\"\"\u001b[39;00m\n\u001b[1;32m--> 237\u001b[0m     \u001b[38;5;28;01mreturn\u001b[39;00m \u001b[43mTimer\u001b[49m\u001b[43m(\u001b[49m\u001b[43mstmt\u001b[49m\u001b[43m,\u001b[49m\u001b[43m \u001b[49m\u001b[43msetup\u001b[49m\u001b[43m,\u001b[49m\u001b[43m \u001b[49m\u001b[43mtimer\u001b[49m\u001b[43m,\u001b[49m\u001b[43m \u001b[49m\u001b[38;5;28;43mglobals\u001b[39;49m\u001b[43m)\u001b[49m\u001b[38;5;241;43m.\u001b[39;49m\u001b[43mtimeit\u001b[49m\u001b[43m(\u001b[49m\u001b[43mnumber\u001b[49m\u001b[43m)\u001b[49m\n",
      "File \u001b[1;32m~\\AppData\\Local\\Programs\\Python\\Python312\\Lib\\timeit.py:180\u001b[0m, in \u001b[0;36mTimer.timeit\u001b[1;34m(self, number)\u001b[0m\n\u001b[0;32m    178\u001b[0m gc\u001b[38;5;241m.\u001b[39mdisable()\n\u001b[0;32m    179\u001b[0m \u001b[38;5;28;01mtry\u001b[39;00m:\n\u001b[1;32m--> 180\u001b[0m     timing \u001b[38;5;241m=\u001b[39m \u001b[38;5;28;43mself\u001b[39;49m\u001b[38;5;241;43m.\u001b[39;49m\u001b[43minner\u001b[49m\u001b[43m(\u001b[49m\u001b[43mit\u001b[49m\u001b[43m,\u001b[49m\u001b[43m \u001b[49m\u001b[38;5;28;43mself\u001b[39;49m\u001b[38;5;241;43m.\u001b[39;49m\u001b[43mtimer\u001b[49m\u001b[43m)\u001b[49m\n\u001b[0;32m    181\u001b[0m \u001b[38;5;28;01mfinally\u001b[39;00m:\n\u001b[0;32m    182\u001b[0m     \u001b[38;5;28;01mif\u001b[39;00m gcold:\n",
      "File \u001b[1;32m<timeit-src>:6\u001b[0m, in \u001b[0;36minner\u001b[1;34m(_it, _timer, _stmt)\u001b[0m\n",
      "\u001b[1;31mTypeError\u001b[0m: power() missing 2 required positional arguments: 'base' and 'exponent'"
     ]
    }
   ],
   "source": [
    "def power(base,exponent):\n",
    "    if(exponent==0):\n",
    "        return 1\n",
    "    return base*power(base,exponent-1)\n",
    "base = int(input(\"enter the base number:\"))\n",
    "expo = int(input(\"enter the exponential value:\"))\n",
    "if(expo<0):\n",
    "    raise ValueError(\"the base can not be negative\")\n",
    "x = power(base,expo)\n",
    "print(x)\n",
    "        "
   ]
  },
  {
   "cell_type": "code",
   "execution_count": 36,
   "id": "4a921b8b-8efd-4790-b110-3e25da09f983",
   "metadata": {},
   "outputs": [
    {
     "name": "stdout",
     "output_type": "stream",
     "text": [
      "<class 'int'>\n"
     ]
    }
   ],
   "source": [
    "a = 10\n",
    "print(type(a))"
   ]
  },
  {
   "cell_type": "code",
   "execution_count": 37,
   "id": "29b632e2-714d-4843-be6b-f49a1d86ba44",
   "metadata": {},
   "outputs": [
    {
     "name": "stdout",
     "output_type": "stream",
     "text": [
      "<class '__main__.CarDesign'>\n",
      "<class '__main__.CarDesign'>\n"
     ]
    }
   ],
   "source": [
    "class CarDesign():\n",
    "    pass\n",
    "obj1 = CarDesign()\n",
    "obj2 = CarDesign()\n",
    "print(type(obj1))\n",
    "print(type(obj2))"
   ]
  },
  {
   "cell_type": "code",
   "execution_count": 10,
   "id": "3e8609fb-5223-4d2e-91d8-f5903be2089a",
   "metadata": {},
   "outputs": [
    {
     "name": "stdout",
     "output_type": "stream",
     "text": [
      "aaditya\n",
      "hii i am aaditya from ujjain and i teach nothing\n",
      "1\n"
     ]
    }
   ],
   "source": [
    "class Instructor:\n",
    "    followers = 0 #class object variable\n",
    "    def __init__(self,name,address):\n",
    "        self.name = name\n",
    "        self.address = address\n",
    "    def display(self,subject_name):\n",
    "        print(f\"hii i am {self.name} from {self.address} and i teach {subject_name}\")\n",
    "    def update(self,follower_name):\n",
    "        self.followers = self.followers+1\n",
    "instruct_1 = Instructor(\"aaditya\",\"ujjain\")\n",
    "print(instruct_1.name)\n",
    "instruct_1.display(\"nothing\")\n",
    "instruct_1.update(\"ajay\")\n",
    "print(instruct_1.followers)\n",
    "    "
   ]
  },
  {
   "cell_type": "code",
   "execution_count": 7,
   "id": "61e32d59-1263-47bc-af15-9b4c048b5cc6",
   "metadata": {},
   "outputs": [
    {
     "name": "stdout",
     "output_type": "stream",
     "text": [
      "aaditya\n",
      "Hi, I am aaditya from ujjain and I teach nothing\n"
     ]
    }
   ],
   "source": [
    "class Instructor:\n",
    "    followers = 0 # class object variable\n",
    "\n",
    "    def __init__(self, name, address):\n",
    "        self.name = name\n",
    "        self.address = address\n",
    "\n",
    "    def display(self, subject_name):\n",
    "        print(f\"Hi, I am {self.name} from {self.address} and I teach {subject_name}\")\n",
    "\n",
    "    def update(self):\n",
    "        self.followers += 1\n",
    "\n",
    "instruct_1 = Instructor(\"aaditya\", \"ujjain\")\n",
    "print(instruct_1.name)\n",
    "instruct_1.display(\"nothing\")\n"
   ]
  },
  {
   "cell_type": "code",
   "execution_count": 13,
   "id": "b85d38df-4777-4f80-91a8-6cd6ed7819e0",
   "metadata": {},
   "outputs": [
    {
     "name": "stdout",
     "output_type": "stream",
     "text": [
      "area of circle is 78.5\n",
      " the parametre of circle is 31.400000000000002\n"
     ]
    }
   ],
   "source": [
    "class Area:\n",
    "    pie = 3.14\n",
    "    def __init__(self,radius):\n",
    "        self.radius = radius\n",
    "    def area_of_circle(self):\n",
    "        print(f\"area of circle is {self.pie*(self.radius*self.radius)}\")\n",
    "    def parameter(self):\n",
    "        print(f\" the parametre of circle is {2*self.pie*self.radius}\")\n",
    "radius = Area(5)\n",
    "radius.area_of_circle()\n",
    "radius.parameter()\n",
    "        \n"
   ]
  },
  {
   "cell_type": "code",
   "execution_count": 18,
   "id": "a1d3dd55-bd11-4bfa-bea8-9f73cd2293c1",
   "metadata": {},
   "outputs": [
    {
     "name": "stdout",
     "output_type": "stream",
     "text": [
      "[10]\n",
      "1\n",
      "<class '__main__.Copy'>\n"
     ]
    }
   ],
   "source": [
    "class Copy:\n",
    "    def __init__(self):\n",
    "        self._list = []\n",
    "    def add_list(self,other):\n",
    "        self._list = self._list+other\n",
    "        return self._list\n",
    "    def __len__(self):\n",
    "        return len(self._list)\n",
    "check = Copy()\n",
    "check.add_list([10])\n",
    "print(check._list)\n",
    "print(len(check._list))\n",
    "print(type(check))\n"
   ]
  },
  {
   "cell_type": "code",
   "execution_count": 9,
   "id": "a8e25f94-4f9c-4d00-a272-7de73ebed39f",
   "metadata": {},
   "outputs": [
    {
     "name": "stdout",
     "output_type": "stream",
     "text": [
      "<class 'int'>\n"
     ]
    }
   ],
   "source": [
    "a = 10\n",
    "print(type(a))"
   ]
  },
  {
   "cell_type": "code",
   "execution_count": 40,
   "id": "da69fb1f-76ca-420e-8a8a-dc1ba3ac0673",
   "metadata": {},
   "outputs": [],
   "source": [
    "#unsolved problem\n",
    "class SymbolAdd:\n",
    "    add = 0\n",
    "    def __init__(self,number):\n",
    "        self.number=number\n",
    "    def copy_num(self):\n",
    "        b = SymbolAdd\n",
    "        b.number = self.number\n",
    "        return b.number\n",
    "    #def add(self,number2):\n",
    "        #return b.number+self.number2\n",
    "    def __add__(self,b):\n",
    "        return b.number+self.b\n",
    "\n",
    "a = SymbolAdd(3)\n",
    "b = add(2)\n",
    "a.copy_num()\n",
    "c = a+b"
   ]
  },
  {
   "cell_type": "code",
   "execution_count": 62,
   "id": "54365fec-3fb4-4012-80ea-96d62fd9fb78",
   "metadata": {},
   "outputs": [
    {
     "name": "stdout",
     "output_type": "stream",
     "text": [
      "[5, 6, 7, 8]\n",
      "enter the number present in list\n",
      "[5, 6, 7, 8]\n",
      "true\n",
      "<class '__main__.NewSet'>\n"
     ]
    }
   ],
   "source": [
    "class NewSet:\n",
    "    def __init__(self):\n",
    "        self._list = []\n",
    "    def insert(self,element):\n",
    "        self._list.append(element)\n",
    "    def remove(self,rem_element):\n",
    "        try:\n",
    "            self._list.remove(rem_element)\n",
    "            return self._list\n",
    "        except ValueError:\n",
    "            print(\"enter the number present in list\")\n",
    "    def check(self,number):\n",
    "        if number in self._list:\n",
    "            return \"true\"\n",
    "        else:\n",
    "            return \"false\"\n",
    "a = NewSet()\n",
    "a.insert(5)\n",
    "a.insert(6)\n",
    "a.insert(7)\n",
    "a.insert(8)\n",
    "print(a._list)\n",
    "a.remove(9)\n",
    "print(a._list)\n",
    "print(a.check(5))\n",
    "print(type(a))\n"
   ]
  },
  {
   "cell_type": "code",
   "execution_count": 69,
   "id": "a683cf7e-82da-4688-af02-472ed060c625",
   "metadata": {},
   "outputs": [
    {
     "data": {
      "text/plain": [
       "dict_keys(['hello', 'hii', 'how'])"
      ]
     },
     "execution_count": 69,
     "metadata": {},
     "output_type": "execute_result"
    }
   ],
   "source": [
    "class Modified:\n",
    "    def __init__(self):\n",
    "        self.Dic = {\"hello\":1,\"hii\":2,\"how\":3}\n",
    "    def keyvalue(self):\n",
    "        return self.Dic.keys()\n",
    "a = Modified()\n",
    "a.keyvalue()\n",
    "        "
   ]
  },
  {
   "cell_type": "code",
   "execution_count": 73,
   "id": "8d2736ae-8ef7-4499-95e9-ed9057e0340a",
   "metadata": {},
   "outputs": [
    {
     "name": "stdin",
     "output_type": "stream",
     "text": [
      "enter hello\n"
     ]
    },
    {
     "name": "stdout",
     "output_type": "stream",
     "text": [
      "yes\n"
     ]
    }
   ],
   "source": [
    "Dic = {\"hello\":1,\"hii\":2,\"how\":3}\n",
    "a = (input(\"enter\"))\n",
    "if a in Dic.keys():\n",
    "    print(\"yes\")"
   ]
  },
  {
   "cell_type": "code",
   "execution_count": 81,
   "id": "bd6af448-528e-4ebb-9893-1bb4b8722cf5",
   "metadata": {},
   "outputs": [
    {
     "name": "stdout",
     "output_type": "stream",
     "text": [
      "Hi, Aaditya you have expertise in ganit, but we are not looking for ganit teacher\n",
      "Aaditya you have very less experience\n",
      "Aaditya,we can not give you 500000 amount as a salary for now\n"
     ]
    }
   ],
   "source": [
    "class InstructorIntro:\n",
    "    def __init__(self,name,address):\n",
    "        self.name = name\n",
    "        self.address = address\n",
    "        self.subjects = [\"Hindi\",\"english\",\"maths\",\"science\",\"sanskrit\"]\n",
    "    def Subexpertise(self,subject):\n",
    "        if subject in self.subjects:\n",
    "            print(f\"you have subject expertise in {subject} and that is what we are actually looking for\")\n",
    "        else:\n",
    "            print(f\"Hi, {self.name} you have expertise in {subject}, but we are not looking for {subject} teacher\")\n",
    "    def pastexperience(self,experience):\n",
    "        if experience<3:\n",
    "            print(f\"{self.name} you have very less experience\")\n",
    "        else:\n",
    "            print(f\"thats good {self.name} you have a good experience of {experience} years\")\n",
    "    def salary(self,ask):\n",
    "        if(ask>50000):\n",
    "            print(f\"{self.name},we can not give you {ask} amount as a salary for now\")\n",
    "        elif(ask<50000):\n",
    "             print(f\"{self.name},your ask of  {ask} amount is in our budget and can happily pay you\")\n",
    "            \n",
    "a = InstructorIntro(\"Aaditya\",\"Ujjain\")\n",
    "a.Subexpertise(\"ganit\")\n",
    "a.pastexperience(2)\n",
    "a.salary(500000)"
   ]
  },
  {
   "cell_type": "code",
   "execution_count": null,
   "id": "9df63cd7-0e94-4ad9-8310-267e0a60f2f1",
   "metadata": {},
   "outputs": [],
   "source": [
    "class CofeeShop:\n",
    "    def __init__(self,name):\n",
    "        self.name = name\n",
    "        self._coffees = [\"black cofee\",\"black cofee with cream\",\"Espresso\",\"Cappuccino\"]\n",
    "        self.toppings = [\"chocolate chips\",\"honey\",\"mint leaves\",\"whipped cream\"]\n",
    "    def cofee(self,choose):\n",
    "        if choose in self._coffees:\n",
    "            print(f\"hii,{self.name} you were looking for {choose} is available\")\n",
    "        else:\n",
    "            print(f\"Sorry! {self.name} you were looking for {choose} is not available currently\")\n",
    "            print(\"we have\")\n",
    "            print(self.cofees)\n",
    "    def toppings(self,choose_toppings):\n",
    "        if choose_toppings\n",
    "        \n",
    "    "
   ]
  },
  {
   "cell_type": "code",
   "execution_count": 85,
   "id": "b1be432c-93b4-4fe9-bb38-ef6585ed6d37",
   "metadata": {},
   "outputs": [
    {
     "ename": "AttributeError",
     "evalue": "'Turtle' object has no attribute 'upward'",
     "output_type": "error",
     "traceback": [
      "\u001b[1;31m---------------------------------------------------------------------------\u001b[0m",
      "\u001b[1;31mAttributeError\u001b[0m                            Traceback (most recent call last)",
      "Cell \u001b[1;32mIn[85], line 3\u001b[0m\n\u001b[0;32m      1\u001b[0m \u001b[38;5;28;01mfrom\u001b[39;00m \u001b[38;5;21;01mturtle\u001b[39;00m \u001b[38;5;28;01mimport\u001b[39;00m Turtle\n\u001b[0;32m      2\u001b[0m buddy \u001b[38;5;241m=\u001b[39m Turtle()\n\u001b[1;32m----> 3\u001b[0m \u001b[43mbuddy\u001b[49m\u001b[38;5;241;43m.\u001b[39;49m\u001b[43mupward\u001b[49m(\u001b[38;5;241m100\u001b[39m)\n\u001b[0;32m      4\u001b[0m buddy\u001b[38;5;241m.\u001b[39mdownward(\u001b[38;5;241m100\u001b[39m)\n",
      "\u001b[1;31mAttributeError\u001b[0m: 'Turtle' object has no attribute 'upward'"
     ]
    }
   ],
   "source": [
    "from turtle import Turtle\n",
    "buddy = Turtle()\n",
    "buddy.upward(100)\n",
    "buddy.downward(100)"
   ]
  },
  {
   "cell_type": "code",
   "execution_count": 10,
   "id": "68b3108f-7a72-4a49-a325-c16e4309f251",
   "metadata": {},
   "outputs": [
    {
     "name": "stdin",
     "output_type": "stream",
     "text": [
      "player is of which team MI\n"
     ]
    },
    {
     "name": "stdout",
     "output_type": "stream",
     "text": [
      "MI\n"
     ]
    },
    {
     "name": "stdin",
     "output_type": "stream",
     "text": [
      "enter the name of player rohit sharma\n"
     ]
    },
    {
     "name": "stdout",
     "output_type": "stream",
     "text": [
      "None\n"
     ]
    }
   ],
   "source": [
    "global MI\n",
    "global RCB\n",
    "global DC\n",
    "global RR\n",
    "global CSK\n",
    "global KKR\n",
    "global LSG\n",
    "global GT\n",
    "global PBKS\n",
    "global SRH\n",
    "global teamName\n",
    "def new(teamName):\n",
    "    x = teamName\n",
    "    print(x)\n",
    "def Team_name():\n",
    "    teamName = input(\"player is of which team\")\n",
    "    v = new(teamName)\n",
    "    return teamName\n",
    "    \n",
    "def player_name():\n",
    "    playerName = input(\"enter the name of player\")\n",
    "    return playerName\n",
    "def team_list():\n",
    "    ipl_team = [MI = [('Rohit sharma',86.36),('Surya kumar yadav',81.28)]\n",
    "    RCB = [('Virat kohli',85.43),('dinesh kartik',76.2)]\n",
    "    DC = [('david warner',76.2),('prithvi shaw',76.2)]\n",
    "    RR = [('jos buttler',81),('sanju samson',76.2)]\n",
    "    KKR = [('sunil naraine',86.36),('shreyash iyer',76.2)]\n",
    "    LSG = [('kl rahul',76.2),('de cock',78.74)]\n",
    "    CSK = [('ms dhoni',81.28),('shivam dube',88.9)]\n",
    "    SRH = [('trevis head',81.28),('pat cummins',88.10)]\n",
    "    PBKS = [('shikhar dhavan',81),('livingstone',78.74)]\n",
    "    GT = [('shubhman gill',88),('miller',79)]\n",
    "    MI = dict(MI)\n",
    "    RCB = dict(RCB)\n",
    "    DC = dict(DC)\n",
    "    RR = dict(RR)\n",
    "    KKR = dict(KKR)\n",
    "    LSG = dict(LSG)\n",
    "    CSK = dict(CSK)\n",
    "    SRH = dict(SRH)\n",
    "    PBKS = dict(PBKS)\n",
    "    GT = dict(GT)]\n",
    "def checkNoball():\n",
    "    a = Team_name()\n",
    "    b = player_name()\n",
    "z = checkNoball()\n",
    "print(z)\n"
   ]
  },
  {
   "cell_type": "code",
   "execution_count": 2,
   "id": "360358c5-29a5-4eac-83e3-1cdd794853a1",
   "metadata": {},
   "outputs": [
    {
     "name": "stdin",
     "output_type": "stream",
     "text": [
      "enter the number MI\n"
     ]
    },
    {
     "name": "stdout",
     "output_type": "stream",
     "text": [
      "MI\n",
      "None\n"
     ]
    }
   ],
   "source": [
    "def teamdict(teamname):\n",
    "    y=name\n",
    "    print(y)\n",
    "def team():\n",
    "    MI = [('Rohit sharma',86.36),('Surya kumar yadav',81.28)]\n",
    "    choose = input(\"enter the team\")\n",
    "    x = teamdict(choose)\n",
    "z = team()\n",
    "print(z)"
   ]
  },
  {
   "cell_type": "code",
   "execution_count": 3,
   "id": "6d75588e-99ca-4d89-b95e-63f93354424b",
   "metadata": {},
   "outputs": [
    {
     "name": "stdin",
     "output_type": "stream",
     "text": [
      "Enter the team:  MI\n"
     ]
    },
    {
     "name": "stdout",
     "output_type": "stream",
     "text": [
      "MI\n",
      "MI\n"
     ]
    }
   ],
   "source": [
    "def teamdict(teamname):\n",
    "    y = teamname  # Corrected variable name\n",
    "    print(y)\n",
    "    return y  # Added return statement to return the value of 'y'\n",
    "\n",
    "def team():\n",
    "    MI = [('Rohit sharma', 86.36), ('Surya kumar yadav', 81.28)]\n",
    "    choose = input(\"Enter the team: \")\n",
    "    x = teamdict(choose)\n",
    "    return x  # Returning the value returned by teamdict\n",
    "\n",
    "z = team()\n",
    "print(z)\n"
   ]
  },
  {
   "cell_type": "code",
   "execution_count": 4,
   "id": "6a537f51-c266-4221-90ad-0a2813f4d481",
   "metadata": {},
   "outputs": [
    {
     "name": "stdin",
     "output_type": "stream",
     "text": [
      "Enter the team:  MI\n"
     ]
    },
    {
     "name": "stdout",
     "output_type": "stream",
     "text": [
      "{'Rohit sharma': 86.36, 'Surya kumar yadav': 81.28}\n"
     ]
    }
   ],
   "source": [
    "def teamdict(team_dict):\n",
    "    print(team_dict)\n",
    "\n",
    "def team():\n",
    "    MI = {'Rohit sharma': 86.36, 'Surya kumar yadav': 81.28}\n",
    "    CSK = [('ms dhoni',81.28),('shivam dube',88.9)]\n",
    "    \n",
    "    choose = input(\"Enter the team: \")\n",
    "    teamdict(choose)  # Passing the dictionary MI to the teamdict function\n",
    "\n",
    "team()\n"
   ]
  },
  {
   "cell_type": "code",
   "execution_count": 7,
   "id": "2cbd55b0-b6cb-422f-89f1-593ab0763ddd",
   "metadata": {},
   "outputs": [
    {
     "ename": "SyntaxError",
     "evalue": "invalid syntax. Maybe you meant '==' or ':=' instead of '='? (3347436605.py, line 15)",
     "output_type": "error",
     "traceback": [
      "\u001b[1;36m  Cell \u001b[1;32mIn[7], line 15\u001b[1;36m\u001b[0m\n\u001b[1;33m    ipl_team = {MI = dict(MI)\u001b[0m\n\u001b[1;37m                ^\u001b[0m\n\u001b[1;31mSyntaxError\u001b[0m\u001b[1;31m:\u001b[0m invalid syntax. Maybe you meant '==' or ':=' instead of '='?\n"
     ]
    }
   ],
   "source": [
    "def chooseteam(teamname):\n",
    "    print(teamname)\n",
    "def team_list():\n",
    "    choose = input(\"enter the team\")\n",
    "    MI = [('Rohit sharma',86.36),('Surya kumar yadav',81.28)]\n",
    "    RCB = [('Virat kohli',85.43),('dinesh kartik',76.2)]\n",
    "    DC = [('david warner',76.2),('prithvi shaw',76.2)]\n",
    "    RR = [('jos buttler',81),('sanju samson',76.2)]\n",
    "    KKR = [('sunil naraine',86.36),('shreyash iyer',76.2)]\n",
    "    LSG = [('kl rahul',76.2),('de cock',78.74)]\n",
    "    CSK = [('ms dhoni',81.28),('shivam dube',88.9)]\n",
    "    SRH = [('trevis head',81.28),('pat cummins',88.10)]\n",
    "    PBKS = [('shikhar dhavan',81),('livingstone',78.74)]\n",
    "    GT = [('shubhman gill',88),('miller',79)]\n",
    "    ipl_team = {MI = dict(MI)\n",
    "    RCB = dict(RCB)\n",
    "    DC = dict(DC)\n",
    "    RR = dict(RR)\n",
    "    KKR = dict(KKR)\n",
    "    LSG = dict(LSG)\n",
    "    CSK = dict(CSK)\n",
    "    SRH = dict(SRH)\n",
    "    PBKS = dict(PBKS)\n",
    "    GT = dict(GT)}\n",
    "    for i in ipl_team:\n",
    "        if(choose==i):\n",
    "            chooseteam(ipl_team[i])"
   ]
  },
  {
   "cell_type": "code",
   "execution_count": 3,
   "id": "9f6bd49c-72e5-4d6f-9ea8-ca7be50f099d",
   "metadata": {},
   "outputs": [
    {
     "name": "stdin",
     "output_type": "stream",
     "text": [
      "Which team the player belongs to: MI\n"
     ]
    },
    {
     "name": "stdout",
     "output_type": "stream",
     "text": [
      "\n"
     ]
    },
    {
     "name": "stdin",
     "output_type": "stream",
     "text": [
      "Enter the player Name: Rohit sharma\n"
     ]
    },
    {
     "name": "stdout",
     "output_type": "stream",
     "text": [
      "\n"
     ]
    },
    {
     "name": "stdin",
     "output_type": "stream",
     "text": [
      "Enter the height of ball at the point of impact: 89.3\n"
     ]
    },
    {
     "name": "stdout",
     "output_type": "stream",
     "text": [
      "\n"
     ]
    },
    {
     "name": "stdin",
     "output_type": "stream",
     "text": [
      "does the player step out: no\n"
     ]
    },
    {
     "name": "stdout",
     "output_type": "stream",
     "text": [
      "\n",
      "It is clearly a no ball\n",
      "\n",
      "Rohit sharma waist height is86.36 and the ball height is 89.3 which is greater than waist line\n",
      "\n",
      "89.3 cm ball\n",
      "------------------------\n",
      "\n",
      "86.36 waist\n",
      "-------------------------\n"
     ]
    }
   ],
   "source": [
    "def step_out(waist_height):\n",
    "    stepOut = float(input(\"How much distance the batsman come out of crease:\"))\n",
    "    new_waist_height = waist_height + stepOut\n",
    "    return new_waist_height\n",
    "    \n",
    "def checkball(Team,player,ball_height):\n",
    "    waist_height = Team.get(player)\n",
    "    player_position = input(\"does the player step out:\")\n",
    "    print()\n",
    "    if(player_position=='no'):\n",
    "        if(ball_height>waist_height):\n",
    "            print(\"It is clearly a no ball\")\n",
    "            print()\n",
    "            print(f\"{player} waist height is{waist_height} and the ball height is {ball_height} which is greater than waist line\")\n",
    "            print()\n",
    "            print(f\"{ball_height} cm ball\")\n",
    "            print(\"------------------------\")\n",
    "            print()\n",
    "            print(f\"{waist_height} waist\")\n",
    "            print(\"-------------------------\")\n",
    "        elif(ball_height<waist_height):\n",
    "            print(\"It is a fair delivery, It is clearly below the waist line\")\n",
    "        else:\n",
    "            print(\"The ball height is equal to the waist height,Umpire you can stay with your decision,its umpires call\")\n",
    "    else:\n",
    "        new_waist_height = step_out(waist_height)\n",
    "        if(new_waist_height>ball_height):\n",
    "            print(\"It is clearly a fair delievery\")\n",
    "            print()\n",
    "            print(f\"The waist height is {new_waist_height}cm and ball height {ball_height}cm it is clearly below the waist line\")\n",
    "        elif(new_waist_height<ball_height):\n",
    "            print(\"It is clearly a no ball\")\n",
    "            print()\n",
    "            print(f\"{player} waist height is{new_waist_height} and the ball height is {ball_height} which is greater than waist line\")\n",
    "        else:\n",
    "            print(\"The ball height is equal to the waist height,Umpire you can stay with your decision,its umpires call\")\n",
    "        \n",
    "        \n",
    "    #print(waist_height)\n",
    "    #print(Team)\n",
    "    #print(player)\n",
    "    #print(ball_height)\n",
    "\n",
    "\n",
    "def ballheight():\n",
    "    ball_height = float(input(\"Enter the height of ball at the point of impact:\"))\n",
    "    print()\n",
    "    return ball_height\n",
    "\n",
    "\n",
    "def player_name():\n",
    "    player_name = input(\"Enter the player Name:\")\n",
    "    print()\n",
    "    return player_name\n",
    "\n",
    "\n",
    "def chooseteam(teamname):\n",
    "    Team = teamname\n",
    "    player = player_name()\n",
    "    ball_height = ballheight()\n",
    "    checkball(Team,player,ball_height)\n",
    "\n",
    "\n",
    "def Teamname():\n",
    "    name = input(\"Which team the player belongs to:\")\n",
    "    print()\n",
    "    return name\n",
    "\n",
    "def team_list():\n",
    "    MI = [('Rohit sharma', 86.36), ('Surya kumar yadav', 81.28)]\n",
    "    RCB = [('Virat kohli', 85.43), ('dinesh kartik', 76.2)]\n",
    "    DC = [('david warner', 76.2), ('prithvi shaw', 76.2)]\n",
    "    RR = [('jos buttler', 81), ('sanju samson', 76.2)]\n",
    "    KKR = [('sunil naraine', 86.36), ('shreyash iyer', 76.2)]\n",
    "    LSG = [('kl rahul', 76.2), ('de cock', 78.74)]\n",
    "    CSK = [('ms dhoni', 81.28), ('shivam dube', 88.9)]\n",
    "    SRH = [('trevis head', 81.28), ('pat cummins', 88.10)]\n",
    "    PBKS = [('shikhar dhavan', 81), ('livingstone', 78.74)]\n",
    "    GT = [('shubhman gill', 88), ('miller', 79)]\n",
    "    \n",
    "    ipl_team = {\n",
    "        'MI': dict(MI),\n",
    "        'RCB': dict(RCB),\n",
    "        'DC': dict(DC),\n",
    "        'RR': dict(RR),\n",
    "        'KKR': dict(KKR),\n",
    "        'LSG': dict(LSG),\n",
    "        'CSK': dict(CSK),\n",
    "        'SRH': dict(SRH),\n",
    "        'PBKS': dict(PBKS),\n",
    "        'GT': dict(GT)\n",
    "    }\n",
    "    name_of_team = Teamname()\n",
    "    for i in ipl_team:\n",
    "        if(name_of_team==i):\n",
    "            chooseteam(ipl_team[i])\n",
    "            break\n",
    "    \n",
    "    for team_name, players in ipl_team.items():\n",
    "        if Teamname == team_name:\n",
    "            chooseteam(players)\n",
    "            break  # Exit loop after printing team\n",
    "\n",
    "team_list()\n"
   ]
  },
  {
   "cell_type": "code",
   "execution_count": 26,
   "id": "6ffb479f-133e-4c10-ba06-4e293c4113d1",
   "metadata": {},
   "outputs": [
    {
     "data": {
      "text/plain": [
       "86.36"
      ]
     },
     "execution_count": 26,
     "metadata": {},
     "output_type": "execute_result"
    }
   ],
   "source": [
    "d = {'Rohit sharma': 86.36, 'Surya kumar yadav': 81.28}\n",
    "d.get('Rohit sharma')"
   ]
  },
  {
   "cell_type": "code",
   "execution_count": 39,
   "id": "c0214bcb-e70d-4272-9871-81c8fc1644f4",
   "metadata": {},
   "outputs": [
    {
     "name": "stdout",
     "output_type": "stream",
     "text": [
      "1.04 m ball\n",
      "------------------------\n",
      "\n",
      "81m waist\n",
      "-------------------------\n"
     ]
    }
   ],
   "source": [
    "print(\"1.04 m ball\")\n",
    "print(\"------------------------\")\n",
    "print()\n",
    "print(\"81m waist\")\n",
    "print(\"-------------------------\")"
   ]
  },
  {
   "cell_type": "code",
   "execution_count": 1,
   "id": "2bc7b7f1-6770-4788-9b9b-d88fbc11dd12",
   "metadata": {},
   "outputs": [
    {
     "name": "stdout",
     "output_type": "stream",
     "text": [
      "WELCOME TO THE QUIZ\n",
      "You will have to face 10 diverse questions, each of which has four options, you have to ENTER the option which is right according to you (A, B, C, or D).\n",
      "There is no time limit to answer the question.\n",
      "If your answer is correct, 1000 Rupees are added to your wallet.\n",
      "If your answer is wrong, 1000 Rupess are debited from your wallet.\n",
      "You can ENTER 'N' to skip the question. No deduction occurs in this case.\n",
      "Warning!!! Remember that if your wallet has a negative balance, you will have to pay the penalty, else you will recieve a prize.\n"
     ]
    },
    {
     "name": "stdin",
     "output_type": "stream",
     "text": [
      "\n",
      "Press ENTER to continue to the quiz, or type 'QUIT' to exit : \n",
      "\n",
      " \n"
     ]
    },
    {
     "name": "stdout",
     "output_type": "stream",
     "text": [
      "QUESTION :  Besides Sachin Tendulkar, who is the only other Indian cricketer to have scored over 13,000 runs in test cricket?\n",
      "A     Virat Kohli\n",
      "B     Sunil Gavaskar\n",
      "C     VVS laxman\n",
      "D     Rahul Dravid\n"
     ]
    },
    {
     "name": "stdin",
     "output_type": "stream",
     "text": [
      "ENTER THE CORRECT OPTION :  D\n"
     ]
    },
    {
     "name": "stdout",
     "output_type": "stream",
     "text": [
      "!!!! IT IS THE RIGHT ANSWER !!!!\n",
      "₹1000 Credited in your wallet. Your total earning as of now =  ₹ 1000\n",
      "\n",
      "QUESTION :  India’s official entry to Oscars 2021, Jallikattu is, a film in which language?\n",
      "A     Hindi\n",
      "B     Punjabi\n",
      "C     Kannada\n",
      "D     Malayalam\n"
     ]
    },
    {
     "name": "stdin",
     "output_type": "stream",
     "text": [
      "ENTER THE CORRECT OPTION :  C\n"
     ]
    },
    {
     "name": "stdout",
     "output_type": "stream",
     "text": [
      "**** IT IS THE WRONG ANSWER ****\n",
      "₹1000 Debited from your wallet. Your total earning as of now =  ₹ 0\n",
      "The right answer is :  Malayalam\n",
      "\n",
      "QUESTION :  In 2020, Louise Gluck won the Nobel Prize in which category?\n",
      "A     Music\n",
      "B     Sports\n",
      "C     Literature\n",
      "D     Dance\n"
     ]
    },
    {
     "name": "stdin",
     "output_type": "stream",
     "text": [
      "ENTER THE CORRECT OPTION :  A\n"
     ]
    },
    {
     "name": "stdout",
     "output_type": "stream",
     "text": [
      "**** IT IS THE WRONG ANSWER ****\n",
      "₹1000 Debited from your wallet. Your total earning as of now =  ₹ -1000\n",
      "The right answer is :  Literature\n",
      "\n",
      "QUESTION :  Which state is the largest producer of sugarcane in India?\n",
      "A     Maharashtra\n",
      "B     Karnataka\n",
      "C     Madhya Pradesh\n",
      "D     Uttar Pradesh\n"
     ]
    },
    {
     "name": "stdin",
     "output_type": "stream",
     "text": [
      "ENTER THE CORRECT OPTION :  D\n"
     ]
    },
    {
     "name": "stdout",
     "output_type": "stream",
     "text": [
      "!!!! IT IS THE RIGHT ANSWER !!!!\n",
      "₹1000 Credited in your wallet. Your total earning as of now =  ₹ 0\n",
      "\n",
      "QUESTION :  Which process enables earthen pots (matkas) to keep water cool?\n",
      "A     Absorption\n",
      "B     Suction\n",
      "C     Evaporation\n",
      "D     Adiabatic Process\n"
     ]
    },
    {
     "name": "stdin",
     "output_type": "stream",
     "text": [
      "ENTER THE CORRECT OPTION :  C\n"
     ]
    },
    {
     "name": "stdout",
     "output_type": "stream",
     "text": [
      "!!!! IT IS THE RIGHT ANSWER !!!!\n",
      "₹1000 Credited in your wallet. Your total earning as of now =  ₹ 1000\n",
      "\n",
      "QUESTION :  Which two countries share the longest international land border?\n",
      "A     Russia-Kazakhstan\n",
      "B     Argentina-Chile\n",
      "C     USA-Canada\n",
      "D     Mongolia-China\n"
     ]
    },
    {
     "name": "stdin",
     "output_type": "stream",
     "text": [
      "ENTER THE CORRECT OPTION :  C\n"
     ]
    },
    {
     "name": "stdout",
     "output_type": "stream",
     "text": [
      "!!!! IT IS THE RIGHT ANSWER !!!!\n",
      "₹1000 Credited in your wallet. Your total earning as of now =  ₹ 2000\n",
      "\n",
      "QUESTION :  What does the word ‘Vrinda’ mean, in the name ‘Vrindavan’, a place related to Lord Krishna?\n",
      "A     Vrudh\n",
      "B     Lord Vishnu\n",
      "C     Tulsi\n",
      "D     Vegetarian\n"
     ]
    },
    {
     "name": "stdin",
     "output_type": "stream",
     "text": [
      "ENTER THE CORRECT OPTION :  C\n"
     ]
    },
    {
     "name": "stdout",
     "output_type": "stream",
     "text": [
      "!!!! IT IS THE RIGHT ANSWER !!!!\n",
      "₹1000 Credited in your wallet. Your total earning as of now =  ₹ 3000\n",
      "\n",
      "QUESTION :  Who is known as the 'Father of the Computer'?\n",
      "A     Charles Babbage\n",
      "B     Alan Turing\n",
      "C     Bill Gates\n",
      "D     Steve Jobs\n"
     ]
    },
    {
     "name": "stdin",
     "output_type": "stream",
     "text": [
      "ENTER THE CORRECT OPTION :  B\n"
     ]
    },
    {
     "name": "stdout",
     "output_type": "stream",
     "text": [
      "**** IT IS THE WRONG ANSWER ****\n",
      "₹1000 Debited from your wallet. Your total earning as of now =  ₹ 2000\n",
      "The right answer is :  Charles Babbage\n",
      "\n",
      "QUESTION :  How many terminals does a Bi-Junction TRansistor (BJT) have?\n",
      "A     1\n",
      "B     5\n",
      "C     4\n",
      "D     3\n"
     ]
    },
    {
     "name": "stdin",
     "output_type": "stream",
     "text": [
      "ENTER THE CORRECT OPTION :  B\n"
     ]
    },
    {
     "name": "stdout",
     "output_type": "stream",
     "text": [
      "**** IT IS THE WRONG ANSWER ****\n",
      "₹1000 Debited from your wallet. Your total earning as of now =  ₹ 1000\n",
      "The right answer is :  3\n",
      "\n",
      "QUESTION :  The release of which chemical led to the Bhopal gas tragedy in 1984?\n",
      "A     Hydrogen azide\n",
      "B     Methyl isocyanate\n",
      "C     Dicholorosilane\n",
      "D     Silicon Tetrachloride\n"
     ]
    },
    {
     "name": "stdin",
     "output_type": "stream",
     "text": [
      "ENTER THE CORRECT OPTION :  A\n"
     ]
    },
    {
     "name": "stdout",
     "output_type": "stream",
     "text": [
      "**** IT IS THE WRONG ANSWER ****\n",
      "₹1000 Debited from your wallet. Your total earning as of now =  ₹ 0\n",
      "The right answer is :  Methyl isocyanate\n",
      "\n",
      "\n",
      "THE QUIZ HAS ENDED, THANKYOU FOR PARTICIPATING, YOUR WALLET HAS A TOTAL AMMOUNT OF :  ₹ 0\n"
     ]
    }
   ],
   "source": [
    "import time \n",
    "\n",
    "global QUESTION_ID_LIST\n",
    "QUESTION_ID_LIST = [(\"MNS991001\",\"Besides Sachin Tendulkar, who is the only other Indian cricketer to have scored over 13,000 runs in test cricket?\"),(\"MNS991002\",\"India’s official entry to Oscars 2021, Jallikattu is, a film in which language?\"),(\"MNS991003\",\"In 2020, Louise Gluck won the Nobel Prize in which category?\"),(\"MNS991004\",\"Which state is the largest producer of sugarcane in India?\"),(\"MNS991005\",\"Which process enables earthen pots (matkas) to keep water cool?\"),(\"MNS991006\",\"Which two countries share the longest international land border?\"),(\"MNS991007\",\"What does the word ‘Vrinda’ mean, in the name ‘Vrindavan’, a place related to Lord Krishna?\"),(\"MNS991008\",\"Who is known as the 'Father of the Computer'?\"),(\"MNS991009\",\"How many terminals does a Bi-Junction TRansistor (BJT) have?\"),(\"MNS991010\",\"The release of which chemical led to the Bhopal gas tragedy in 1984?\")]\n",
    "\n",
    "global QUESTION_LIST\n",
    "QUESTION_LIST = {\"MNS991001\":{\"A\":\"Virat Kohli\",\"B\":\"Sunil Gavaskar\",\"C\":\"VVS laxman\",\"D\":\"Rahul Dravid\"}, \"MNS991002\":{\"A\":\"Hindi\",\"B\":\"Punjabi\",\"C\":\"Kannada\",\"D\":\"Malayalam\"},  \"MNS991003\":{\"A\":\"Music\",\"B\":\"Sports\",\"C\":\"Literature\",\"D\":\"Dance\"}, \"MNS991004\":{\"A\":\"Maharashtra\",\"B\":\"Karnataka\",\"C\":\"Madhya Pradesh\",\"D\":\"Uttar Pradesh\"},\"MNS991005\":{\"A\":\"Absorption\",\"B\":\"Suction\",\"C\":\"Evaporation\",\"D\":\"Adiabatic Process\"},\"MNS991006\":{\"A\":\"Russia-Kazakhstan\",\"B\":\"Argentina-Chile\",\"C\":\"USA-Canada\",\"D\":\"Mongolia-China\"},\"MNS991007\":{\"A\":\"Vrudh\",\"B\":\"Lord Vishnu\",\"C\":\"Tulsi\",\"D\":\"Vegetarian\"},\"MNS991008\":{\"A\":\"Charles Babbage\",\"B\":\"Alan Turing\",\"C\":\"Bill Gates\",\"D\":\"Steve Jobs\"},\"MNS991009\":{\"A\":\"1\",\"B\":\"5\",\"C\":\"4\",\"D\":\"3\"},\"MNS991010\":{\"A\":\"Hydrogen azide\",\"B\":\"Methyl isocyanate\",\"C\":\"Dicholorosilane\",\"D\":\"Silicon Tetrachloride\"},}\n",
    "\n",
    "global ANSWER_LIST        \n",
    "ANSWER_LIST = [(\"MNS991001\",\"Rahul Dravid\"), (\"MNS991002\",\"Malayalam\"), (\"MNS991003\",\"Literature\"), (\"MNS991004\",\"Uttar Pradesh\"), (\"MNS991005\",\"Evaporation\"),(\"MNS991006\",\"USA-Canada\"),(\"MNS991007\",\"Tulsi\"),(\"MNS991008\",\"Charles Babbage\"),(\"MNS991009\",\"3\"),(\"MNS991010\",\"Methyl isocyanate\")]\n",
    "\n",
    "global WINNING_AMOUNT\n",
    "WINNING_AMOUNT = 0\n",
    "\n",
    "def start_the_quiz():\n",
    "    \"\"\"This function takes no argument, it displays the rules and details of the quiz and calls the main quiz function within itself.\"\"\"\n",
    "    print(\"WELCOME TO THE QUIZ\")\n",
    "    print(\"You will have to face 10 diverse questions, each of which has four options, you have to ENTER the option which is right according to you (A, B, C, or D).\\nThere is no time limit to answer the question.\\nIf your answer is correct, 1000 Rupees are added to your wallet.\\nIf your answer is wrong, 1000 Rupess are debited from your wallet.\\nYou can ENTER 'N' to skip the question. No deduction occurs in this case.\\nWarning!!! Remember that if your wallet has a negative balance, you will have to pay the penalty, else you will recieve a prize.\")\n",
    "    start = input(\"\\nPress ENTER to continue to the quiz, or type 'QUIT' to exit : \\n\\n\")\n",
    "    try:\n",
    "        if start!=\"\" and start!=\"QUIT\":\n",
    "            raise ValueError\n",
    "        if start == \"\":\n",
    "            the_quiz()\n",
    "        if start == \"QUIT\":\n",
    "            print(\"The Quiz has been terminated.\")\n",
    "            return\n",
    "    except:\n",
    "        print(\"Invalid input\")\n",
    "    \n",
    "\n",
    "def the_quiz():\n",
    "    \"\"\" This is a function which takes no argument and operates on the global database of questions and answers and executes the working of Quiz.\"\"\"\n",
    "    global QUESTION_ID_LIST\n",
    "    global QUESTION_LIST\n",
    "    global ANSWER_LIST\n",
    "    global WINNING_AMOUNT\n",
    "    \n",
    "    for ques_book in QUESTION_ID_LIST:\n",
    "        ques_id = list(ques_book)[0]\n",
    "        question = list(ques_book)[1]\n",
    "        print(\"QUESTION : \",end=' ')\n",
    "        print(question)\n",
    "        \n",
    "        display = QUESTION_LIST.get(ques_id)\n",
    "        for a,b in display.items():\n",
    "            print(a,\"   \",b)\n",
    "            \n",
    "        answer = input(\"ENTER THE CORRECT OPTION : \") \n",
    "        \n",
    "        try:\n",
    "            answer_details = \"\"\n",
    "            if answer == \"N\":\n",
    "                print(\"The question has been skipped, no ammount credited or debited.\\n\")\n",
    "                continue\n",
    "            for c,d in display.items():\n",
    "                if answer == c:\n",
    "                    answer_details = d\n",
    "                    break\n",
    "            if answer not in ['A','B','C','D','N']:\n",
    "                raise ValueError\n",
    "        except(ValueError):\n",
    "            print(\"Your entry is not valid, you can only choose between options A, B, C, D  or N for skipping the question.\\n\")\n",
    "            continue\n",
    "        except:\n",
    "            print(\"Unable to detect your answer!\\n\")\n",
    "            continue\n",
    "            \n",
    "        for element in ANSWER_LIST:\n",
    "            value = list(element)\n",
    "            if value[0]==ques_id:\n",
    "                if value[1]==answer_details:\n",
    "                    WINNING_AMOUNT = WINNING_AMOUNT + 1000\n",
    "                    print(\"!!!! IT IS THE RIGHT ANSWER !!!!\\n₹1000 Credited in your wallet. Your total earning as of now =  ₹\",WINNING_AMOUNT)\n",
    "                    \n",
    "                else:\n",
    "                    WINNING_AMOUNT = WINNING_AMOUNT - 1000\n",
    "                    print(\"**** IT IS THE WRONG ANSWER ****\\n₹1000 Debited from your wallet. Your total earning as of now =  ₹\",WINNING_AMOUNT)\n",
    "                    print(\"The right answer is : \",value[1])\n",
    "       \n",
    "        print()  \n",
    "        time.sleep(4)\n",
    "        \n",
    "    print(\"\\nTHE QUIZ HAS ENDED, THANKYOU FOR PARTICIPATING, YOUR WALLET HAS A TOTAL AMMOUNT OF :  ₹\",WINNING_AMOUNT)  \n",
    "    if WINNING_AMOUNT>0:\n",
    "        print(\"You will soon recieve the prize of Rupees\",WINNING_AMOUNT)\n",
    "    if WINNING_AMOUNT<0:\n",
    "        print(\"Get ready to pay us the penalty of Rupees\",WINNING_AMOUNT*(-1))\n",
    "\n",
    "\n",
    "start_the_quiz()\n"
   ]
  },
  {
   "cell_type": "code",
   "execution_count": null,
   "id": "4b484475-364c-4c27-b3c1-5113b8bd4497",
   "metadata": {},
   "outputs": [],
   "source": []
  },
  {
   "cell_type": "code",
   "execution_count": 1,
   "id": "49b90127-78d1-4931-a784-c80cda39c1cb",
   "metadata": {},
   "outputs": [
    {
     "name": "stdin",
     "output_type": "stream",
     "text": [
      "Which team the player belongs to: MI\n"
     ]
    },
    {
     "name": "stdout",
     "output_type": "stream",
     "text": [
      "\n"
     ]
    },
    {
     "name": "stdin",
     "output_type": "stream",
     "text": [
      "Enter the player Name: Rohit sharma\n"
     ]
    },
    {
     "name": "stdout",
     "output_type": "stream",
     "text": [
      "\n"
     ]
    },
    {
     "name": "stdin",
     "output_type": "stream",
     "text": [
      "Enter the height of ball at the point of impact: 87\n"
     ]
    },
    {
     "name": "stdout",
     "output_type": "stream",
     "text": [
      "\n"
     ]
    },
    {
     "name": "stdin",
     "output_type": "stream",
     "text": [
      "does the player step out: yes\n"
     ]
    },
    {
     "name": "stdout",
     "output_type": "stream",
     "text": [
      "\n"
     ]
    },
    {
     "name": "stdin",
     "output_type": "stream",
     "text": [
      "How much distance the batsman come out of crease: 65\n"
     ]
    },
    {
     "name": "stdout",
     "output_type": "stream",
     "text": [
      "It is clearly a fair delievery\n",
      "\n",
      "The waist height is 151.36cm and ball height 87.0cm it is clearly below the waist line\n"
     ]
    }
   ],
   "source": [
    "def step_out(waist_height):\n",
    "    stepOut = float(input(\"How much distance the batsman come out of crease:\"))\n",
    "    new_waist_height = waist_height + stepOut\n",
    "    return new_waist_height\n",
    "    \n",
    "def checkball(Team,player,ball_height):\n",
    "    waist_height = Team.get(player)\n",
    "    player_position = input(\"does the player step out:\")\n",
    "    print()\n",
    "    if(player_position=='no'):\n",
    "        if(ball_height>waist_height):\n",
    "            print(\"It is clearly a no ball\")\n",
    "            print()\n",
    "            print(f\"{player} waist height is{waist_height} and the ball height is {ball_height} which is greater than waist line\")\n",
    "            print()\n",
    "            print(f\"{ball_height} cm ball\")\n",
    "            print(\"------------------------\")\n",
    "            print()\n",
    "            print(f\"{waist_height} waist\")\n",
    "            print(\"-------------------------\")\n",
    "        elif(ball_height<waist_height):\n",
    "            print(\"It is a fair delivery, It is clearly below the waist line\")\n",
    "        else:\n",
    "            print(\"The ball height is equal to the waist height,Umpire you can stay with your decision,its umpires call\")\n",
    "    else:\n",
    "        new_waist_height = step_out(waist_height)\n",
    "        if(new_waist_height>ball_height):\n",
    "            print(\"It is clearly a fair delievery\")\n",
    "            print()\n",
    "            print(f\"The waist height is {new_waist_height}cm and ball height {ball_height}cm it is clearly below the waist line\")\n",
    "        elif(new_waist_height<ball_height):\n",
    "            print(\"It is clearly a no ball\")\n",
    "            print()\n",
    "            print(f\"{player} waist height is{new_waist_height} and the ball height is {ball_height} which is greater than waist line\")\n",
    "        else:\n",
    "            print(\"The ball height is equal to the waist height,Umpire you can stay with your decision,its umpires call\")\n",
    "        \n",
    "        \n",
    "    #print(waist_height)\n",
    "    #print(Team)\n",
    "    #print(player)\n",
    "    #print(ball_height)\n",
    "\n",
    "\n",
    "def ballheight():\n",
    "    ball_height = float(input(\"Enter the height of ball at the point of impact:\"))\n",
    "    print()\n",
    "    return ball_height\n",
    "\n",
    "\n",
    "def player_name():\n",
    "    player_name = input(\"Enter the player Name:\")\n",
    "    print()\n",
    "    return player_name\n",
    "\n",
    "\n",
    "def chooseteam(teamname):\n",
    "    Team = teamname\n",
    "    player = player_name()\n",
    "    ball_height = ballheight()\n",
    "    checkball(Team,player,ball_height)\n",
    "\n",
    "\n",
    "def Teamname():\n",
    "    name = input(\"Which team the player belongs to:\")\n",
    "    print()\n",
    "    return name\n",
    "\n",
    "def team_list():\n",
    "    MI = [('Rohit sharma', 86.36), ('Surya kumar yadav', 81.28)]\n",
    "    RCB = [('Virat kohli', 85.43), ('dinesh kartik', 76.2)]\n",
    "    DC = [('david warner', 76.2), ('prithvi shaw', 76.2)]\n",
    "    RR = [('jos buttler', 81), ('sanju samson', 76.2)]\n",
    "    KKR = [('sunil naraine', 86.36), ('shreyash iyer', 76.2)]\n",
    "    LSG = [('kl rahul', 76.2), ('de cock', 78.74)]\n",
    "    CSK = [('ms dhoni', 81.28), ('shivam dube', 88.9)]\n",
    "    SRH = [('trevis head', 81.28), ('pat cummins', 88.10)]\n",
    "    PBKS = [('shikhar dhavan', 81), ('livingstone', 78.74)]\n",
    "    GT = [('shubhman gill', 88), ('miller', 79)]\n",
    "    \n",
    "    ipl_team = {\n",
    "        'MI': dict(MI),\n",
    "        'RCB': dict(RCB),\n",
    "        'DC': dict(DC),\n",
    "        'RR': dict(RR),\n",
    "        'KKR': dict(KKR),\n",
    "        'LSG': dict(LSG),\n",
    "        'CSK': dict(CSK),\n",
    "        'SRH': dict(SRH),\n",
    "        'PBKS': dict(PBKS),\n",
    "        'GT': dict(GT)\n",
    "    }\n",
    "    name_of_team = Teamname()\n",
    "    for i in ipl_team:\n",
    "        if(name_of_team==i):\n",
    "            chooseteam(ipl_team[i])\n",
    "            break\n",
    "    \n",
    "    for team_name, players in ipl_team.items():\n",
    "        if Teamname == team_name:\n",
    "            chooseteam(players)\n",
    "            break  # Exit loop after printing team\n",
    "\n",
    "team_list()\n"
   ]
  },
  {
   "cell_type": "code",
   "execution_count": 8,
   "id": "12f841f3-e6da-4f2d-be62-1178c1ef4e19",
   "metadata": {},
   "outputs": [
    {
     "name": "stdout",
     "output_type": "stream",
     "text": [
      "Aaditya\n",
      "7\n"
     ]
    }
   ],
   "source": [
    "class length:\n",
    "    def __init__(self,name):\n",
    "        self.name = name\n",
    "    def __len__(self):\n",
    "        i=0\n",
    "        for c in self.name:\n",
    "            i = i+1\n",
    "        return i\n",
    "object = length('Aaditya')\n",
    "print(object.name)\n",
    "print(len(object))\n",
    "            "
   ]
  },
  {
   "cell_type": "code",
   "execution_count": 14,
   "id": "15851148-1a6d-4046-8888-fc794e18f225",
   "metadata": {},
   "outputs": [
    {
     "name": "stdout",
     "output_type": "stream",
     "text": [
      "<__main__.Author object at 0x00000246FC5B6EA0>\n"
     ]
    }
   ],
   "source": [
    "class Author:\n",
    "    def __init__(self,name,written_by):\n",
    "        self.name = name\n",
    "        self.written_by = written_by\n",
    "    #def __str__(self):\n",
    "        #return (f\"the book is {self.name} and is written by {self.written_by}\")\n",
    "d = Author(\"wings of fire\",\"Dr. apj abdul kalam\")\n",
    "print(d)"
   ]
  },
  {
   "cell_type": "code",
   "execution_count": 18,
   "id": "4f424e47-fbc8-45a8-99bc-e6838a655d32",
   "metadata": {},
   "outputs": [
    {
     "name": "stdout",
     "output_type": "stream",
     "text": [
      "aadityajoshi\n"
     ]
    }
   ],
   "source": [
    "class test:\n",
    "    def __init__(self,name):\n",
    "        self.name = name\n",
    "    def __str__(self):\n",
    "        return self.name\n",
    "    def __add__(self,other):\n",
    "        return self.name+other\n",
    "obj = test('aaditya')\n",
    "print(obj + 'joshi')\n",
    "\n",
    "        "
   ]
  },
  {
   "cell_type": "code",
   "execution_count": 27,
   "id": "6925d6aa-d85a-4dad-a037-7a387b4e9984",
   "metadata": {},
   "outputs": [
    {
     "name": "stdout",
     "output_type": "stream",
     "text": [
      "no. is 5\n",
      "number is 2\n",
      "10\n"
     ]
    }
   ],
   "source": [
    "#__mul__(self) method\n",
    "class num1:\n",
    "    def __init__(self,value):\n",
    "        self.value = value\n",
    "    def __mul__(self,other):\n",
    "        return (f\"{self.value * other.value2}\")\n",
    "    def __str__(self):\n",
    "        return (f\"no. is {self.value}\")\n",
    "class num2:\n",
    "    def __init__(self,value2):\n",
    "        self.value2 = value2\n",
    "    def __str__(self):\n",
    "        return (f\"number is {self.value2}\")\n",
    "test = num1(5)\n",
    "print(test)\n",
    "test2 = num2(2)\n",
    "print(test2)\n",
    "print(test*test2)\n",
    "    "
   ]
  },
  {
   "cell_type": "code",
   "execution_count": 5,
   "id": "78940876-fef4-457e-970e-fbde0f87a5f4",
   "metadata": {},
   "outputs": [
    {
     "name": "stdout",
     "output_type": "stream",
     "text": [
      "<__main__.identity object at 0x0000020BD0893BF0>\n"
     ]
    }
   ],
   "source": [
    "class Person:\n",
    "    def __init__(self,name,age,DOB,gender,place_of_birth):\n",
    "        self.name = name\n",
    "        self.age = age\n",
    "        self.DOB = DOB\n",
    "        self.gender = gender\n",
    "        self.place_of_birth = place_of_birth\n",
    "identity = Person(\"Aaditya\",19,\"20/12/2004\",\"male\",\"ujjain\")\n",
    "print(person)"
   ]
  },
  {
   "cell_type": "code",
   "execution_count": 30,
   "id": "2ff8fd3b-f592-4155-a50b-147067dbdb62",
   "metadata": {},
   "outputs": [
    {
     "ename": "AttributeError",
     "evalue": "'AU_person' object has no attribute 'get_name'",
     "output_type": "error",
     "traceback": [
      "\u001b[1;31m---------------------------------------------------------------------------\u001b[0m",
      "\u001b[1;31mAttributeError\u001b[0m                            Traceback (most recent call last)",
      "Cell \u001b[1;32mIn[30], line 17\u001b[0m\n\u001b[0;32m     14\u001b[0m         \u001b[38;5;28;01mreturn\u001b[39;00m \u001b[38;5;28mself\u001b[39m\u001b[38;5;241m.\u001b[39menrollment\n\u001b[0;32m     16\u001b[0m obj1 \u001b[38;5;241m=\u001b[39m AU_person(\u001b[38;5;124m\"\u001b[39m\u001b[38;5;124mAaditya\u001b[39m\u001b[38;5;124m\"\u001b[39m)\n\u001b[1;32m---> 17\u001b[0m \u001b[38;5;28mprint\u001b[39m(\u001b[43mobj1\u001b[49m\u001b[38;5;241;43m.\u001b[39;49m\u001b[43mget_name\u001b[49m())\n",
      "\u001b[1;31mAttributeError\u001b[0m: 'AU_person' object has no attribute 'get_name'"
     ]
    }
   ],
   "source": [
    "class Person:\n",
    "    def __init__(self,name):\n",
    "        self.name = name\n",
    "        #self.age = age\n",
    "        #self.DOB = DOB\n",
    "        #self.gender = gender\n",
    "        #self.place_of_birth = place_of_birth\n",
    "        def get_name(self):\n",
    "            return self.name\n",
    "class AU_person(Person):\n",
    "    enrollment = 1\n",
    "    def __init__(self,name):\n",
    "        super().__init__(name)\n",
    "    def get_id(self):\n",
    "        return self.enrollment\n",
    "\n",
    "obj1 = AU_person(\"Aaditya\")\n",
    "print(obj1.get_name())\n",
    "\n",
    "\n"
   ]
  },
  {
   "cell_type": "code",
   "execution_count": 31,
   "id": "b863ce45-9a96-4b01-9bf2-f1a691d644e8",
   "metadata": {},
   "outputs": [
    {
     "name": "stdout",
     "output_type": "stream",
     "text": [
      "Aaditya\n"
     ]
    }
   ],
   "source": [
    "class Person:\n",
    "    def __init__(self, name):\n",
    "        self.name = name\n",
    "        \n",
    "    def get_name(self):\n",
    "        return self.name\n",
    "\n",
    "class AU_person(Person):\n",
    "    def __init__(self, name):\n",
    "        super().__init__(name)\n",
    "        \n",
    "    def get_id(self):\n",
    "        return self.enrollment\n",
    "\n",
    "obj1 = AU_person(\"Aaditya\")\n",
    "print(obj1.get_name())\n"
   ]
  },
  {
   "cell_type": "code",
   "execution_count": 53,
   "id": "1713e1d6-e8cb-4033-93dd-3e77b19b6502",
   "metadata": {},
   "outputs": [
    {
     "ename": "SyntaxError",
     "evalue": "incomplete input (7289492.py, line 43)",
     "output_type": "error",
     "traceback": [
      "\u001b[1;36m  Cell \u001b[1;32mIn[53], line 43\u001b[1;36m\u001b[0m\n\u001b[1;33m    \u001b[0m\n\u001b[1;37m    ^\u001b[0m\n\u001b[1;31mSyntaxError\u001b[0m\u001b[1;31m:\u001b[0m incomplete input\n"
     ]
    }
   ],
   "source": [
    "class Person:\n",
    "    def __init__(self, name):\n",
    "        self.name = name\n",
    "    def __str__(self):\n",
    "        return str(self.name)\n",
    "    def get_name(self):\n",
    "        return self.name\n",
    "\n",
    "class AU_person(Person):\n",
    "    _new_enroll = 1\n",
    "    def __init__(self, name):\n",
    "        super().__init__(name)\n",
    "        self._id = AU_person._new_enroll\n",
    "        AU_person._new_enroll+=1\n",
    "        #enroll = 'AU23B100'+str(self._id)\n",
    "        \n",
    "        \n",
    "    def get_id(self):\n",
    "        return 'AU23B100'+str(self._id)\n",
    "\n",
    "#class Student(AU_person):\n",
    "    #def __init__(self,programme,year):\n",
    "        #self.programme = programme\n",
    "        #self.year = year\n",
    "        #super().__init__(enroll)\n",
    "    #def Program_year():\n",
    "        #return (f\" the {name} enrollment id {enroll} from {self.programme} {self.year}\")\n",
    "        \n",
    "        \n",
    "\n",
    "#obj1 = AU_person(\"Aaditya\")\n",
    "#print(obj1.get_name())\n",
    "#print(obj.get_id(1001))\n",
    "#obj2 = AU_person(\"aaditya\")\n",
    "#print(obj2.get_id())\n",
    "#b = AU_person(\"aadi\")\n",
    "#print(b.get_id())\n",
    "#print(str(b) + 'id number is',str(b.get_id())\n",
    "#c = AU_person(\"surya\")\n",
    "#print(c.get_id())\n",
    "d = AU_person(\"Aaditya\")\n",
    "print(str(b) + 'id number is',str(b.get_id())\n",
    "\n"
   ]
  },
  {
   "cell_type": "code",
   "execution_count": 57,
   "id": "8bea66be-6b1c-4440-ba6b-f037887fd82e",
   "metadata": {},
   "outputs": [
    {
     "name": "stdout",
     "output_type": "stream",
     "text": [
      "AU23B1001\n",
      "Aadityaid number is AU23B1001\n"
     ]
    }
   ],
   "source": [
    "class Person:\n",
    "    def __init__(self, name):\n",
    "        self.name = name\n",
    "    def __str__(self):\n",
    "        return str(self.name)\n",
    "    def get_name(self):\n",
    "        return self.name\n",
    "\n",
    "class AU_person(Person):\n",
    "    _new_enroll = 1\n",
    "    def __init__(self, name):\n",
    "        super().__init__(name)\n",
    "        self._id = AU_person._new_enroll\n",
    "        AU_person._new_enroll+=1\n",
    "        #enroll = 'AU23B100'+str(self._id)\n",
    "        \n",
    "        \n",
    "    def get_id(self):\n",
    "        return 'AU23B100'+str(self._id)\n",
    "        \n",
    "d = AU_person(\"Aaditya\")\n",
    "print(d.get_id())\n",
    "print(str(d) + 'id number is',str(d.get_id()))"
   ]
  },
  {
   "cell_type": "code",
   "execution_count": 66,
   "id": "877fe3e1-7c38-4d16-82ef-e0407a7fc5b8",
   "metadata": {},
   "outputs": [
    {
     "name": "stdout",
     "output_type": "stream",
     "text": [
      "AU23B1001\n",
      "Aadityaid number is AU23B1001\n",
      " Student is aaditya enrollment id AU23B1002 from Btech FY\n"
     ]
    }
   ],
   "source": [
    "class Person:\n",
    "    def __init__(self, name):\n",
    "        self.name = name\n",
    "    def __str__(self):\n",
    "        return str(self.name)\n",
    "    def get_name(self):\n",
    "        return self.name\n",
    "\n",
    "class AU_person(Person):\n",
    "    _new_enroll = 1\n",
    "    def __init__(self, name):\n",
    "        super().__init__(name)\n",
    "        self._id = AU_person._new_enroll\n",
    "        AU_person._new_enroll+=1\n",
    "        self.enroll = 'AU23B100'+str(self._id)\n",
    "        \n",
    "        \n",
    "    def get_id(self):\n",
    "        return self.enroll\n",
    "        \n",
    "class Student(AU_person):\n",
    "    def __init__(self,name,programme,year):\n",
    "        self.programme = programme\n",
    "        self.year = year\n",
    "        super().__init__(name)\n",
    "    def Program_year(self):\n",
    "        return (f\" Student is {self.name} enrollment id {self.get_id()} from {self.programme} {self.year}\")\n",
    "        \n",
    "d = AU_person(\"Aaditya\")\n",
    "print(d.get_id())\n",
    "print(str(d) + 'id number is',str(d.get_id()))\n",
    "e = Student(\"aaditya\",\"Btech\",\"FY\")\n",
    "print(e.Program_year())\n",
    "f = Student(\""
   ]
  },
  {
   "cell_type": "code",
   "execution_count": 86,
   "id": "df914ec8-29af-441f-8818-09c0644ac359",
   "metadata": {},
   "outputs": [
    {
     "ename": "TypeError",
     "evalue": "Student.__init__() missing 1 required positional argument: 'year'",
     "output_type": "error",
     "traceback": [
      "\u001b[1;31m---------------------------------------------------------------------------\u001b[0m",
      "\u001b[1;31mTypeError\u001b[0m                                 Traceback (most recent call last)",
      "Cell \u001b[1;32mIn[86], line 32\u001b[0m\n\u001b[0;32m     27\u001b[0m         \u001b[38;5;28;01mreturn\u001b[39;00m (\u001b[38;5;124mf\u001b[39m\u001b[38;5;124m\"\u001b[39m\u001b[38;5;124m Student is \u001b[39m\u001b[38;5;132;01m{\u001b[39;00m\u001b[38;5;28mself\u001b[39m\u001b[38;5;241m.\u001b[39mname\u001b[38;5;132;01m}\u001b[39;00m\u001b[38;5;124m enrollment id \u001b[39m\u001b[38;5;132;01m{\u001b[39;00m\u001b[38;5;28mself\u001b[39m\u001b[38;5;241m.\u001b[39mget_id()\u001b[38;5;132;01m}\u001b[39;00m\u001b[38;5;124m from \u001b[39m\u001b[38;5;132;01m{\u001b[39;00m\u001b[38;5;28mself\u001b[39m\u001b[38;5;241m.\u001b[39mprogramme\u001b[38;5;132;01m}\u001b[39;00m\u001b[38;5;124m \u001b[39m\u001b[38;5;132;01m{\u001b[39;00m\u001b[38;5;28mself\u001b[39m\u001b[38;5;241m.\u001b[39myear\u001b[38;5;132;01m}\u001b[39;00m\u001b[38;5;124m\"\u001b[39m)\n\u001b[0;32m     29\u001b[0m \u001b[38;5;66;03m#d = AU_person(\"Aaditya\")\u001b[39;00m\n\u001b[0;32m     30\u001b[0m \u001b[38;5;66;03m#print(d.get_id())\u001b[39;00m\n\u001b[0;32m     31\u001b[0m \u001b[38;5;66;03m#print(str(d) + 'id number is',str(d.get_id()))\u001b[39;00m\n\u001b[1;32m---> 32\u001b[0m e \u001b[38;5;241m=\u001b[39m \u001b[43mStudent\u001b[49m\u001b[43m(\u001b[49m\u001b[38;5;124;43m\"\u001b[39;49m\u001b[38;5;124;43mBtech\u001b[39;49m\u001b[38;5;124;43m\"\u001b[39;49m\u001b[43m,\u001b[49m\u001b[38;5;124;43m\"\u001b[39;49m\u001b[38;5;124;43mFY\u001b[39;49m\u001b[38;5;124;43m\"\u001b[39;49m\u001b[43m)\u001b[49m\n\u001b[0;32m     33\u001b[0m \u001b[38;5;28mprint\u001b[39m(e\u001b[38;5;241m.\u001b[39mProgram_year())\n",
      "\u001b[1;31mTypeError\u001b[0m: Student.__init__() missing 1 required positional argument: 'year'"
     ]
    }
   ],
   "source": [
    "class Person:\n",
    "    def __init__(self):\n",
    "        self.name = \"Manav\"\n",
    "    def __str__(self):\n",
    "        return str(self.name)\n",
    "    def get_name(self):\n",
    "        return self.name\n",
    "\n",
    "class AU_person(Person):\n",
    "    _new_enroll = 1\n",
    "    def __init__(self, name):\n",
    "        super().__init__(name)\n",
    "        self._id = AU_person._new_enroll\n",
    "        AU_person._new_enroll+=1\n",
    "        self.enroll = 'AU23B100' + str(self._id)\n",
    "        \n",
    "        \n",
    "    def get_id(self):\n",
    "        return self.enroll\n",
    "        \n",
    "class Student(AU_person):\n",
    "    def __init__(self,name,programme,year):\n",
    "        self.programme = programme\n",
    "        self.year = year\n",
    "        super().__init__(name)\n",
    "    def Program_year(self):\n",
    "        return (f\" Student is {self.name} enrollment id {self.get_id()} from {self.programme} {self.year}\")\n",
    "        \n",
    "#d = AU_person(\"Aaditya\")\n",
    "#print(d.get_id())\n",
    "#print(str(d) + 'id number is',str(d.get_id()))\n",
    "e = Student(\"Btech\",\"FY\")\n",
    "print(e.Program_year())"
   ]
  },
  {
   "cell_type": "code",
   "execution_count": 89,
   "id": "c571a97e-0999-4f11-b699-e03b66460902",
   "metadata": {},
   "outputs": [
    {
     "name": "stdout",
     "output_type": "stream",
     "text": [
      " Student is aaditya enrollment id AU23B1001 from Btech FY\n"
     ]
    }
   ],
   "source": [
    "class Person:\n",
    "    def __init__(self, name):\n",
    "        self.name = name\n",
    "    def __str__(self):\n",
    "        return str(self.name)\n",
    "    def get_name(self):\n",
    "        return self.name\n",
    "\n",
    "class AU_person(Person):\n",
    "    _new_enroll = 1\n",
    "    def __init__(self, name):\n",
    "        super().__init__(name)\n",
    "        self._id = AU_person._new_enroll\n",
    "        AU_person._new_enroll+=1\n",
    "        self.enroll = 'AU23B100' + str(self._id)\n",
    "        \n",
    "        \n",
    "    def get_id(self):\n",
    "        return self.enroll\n",
    "        \n",
    "class Student(AU_person):\n",
    "    def __init__(self,name,programme,year):\n",
    "        self.programme = programme\n",
    "        self.year = year\n",
    "        super().__init__(name)\n",
    "    def Program_year(self):\n",
    "        return (f\" Student is {self.name} enrollment id {self.get_id()} from {self.programme} {self.year}\")\n",
    "        \n",
    "#d = AU_person(\"Aaditya\")\n",
    "#print(d.get_id())\n",
    "#print(str(d) + 'id number is',str(d.get_id()))\n",
    "e = Student(\"aaditya\",\"Btech\",\"FY\")\n",
    "print(e.Program_year())"
   ]
  },
  {
   "cell_type": "code",
   "execution_count": 9,
   "id": "f01ff49c-bb37-426c-aa11-55006b7b4c02",
   "metadata": {},
   "outputs": [
    {
     "name": "stdout",
     "output_type": "stream",
     "text": [
      "Tails\n"
     ]
    },
    {
     "name": "stdin",
     "output_type": "stream",
     "text": [
      "Player 2: Pick the chocolate (1 or 2):  2\n"
     ]
    },
    {
     "name": "stdout",
     "output_type": "stream",
     "text": [
      "['🍫', '🍫', '🍫', '🍫', '🍫', '🍫', '🍫', '🍫', '🍫', '🍫', '🍫', '🍫', '🍫', '🍫', '🍫', '🍫', '🍫', '🍫']\n",
      "['🍫', '🍫', '🍫', '🍫', '🍫', '🍫', '🍫', '🍫', '🍫', '🍫', '🍫', '🍫', '🍫', '🍫', '🍫', '🍫']\n",
      "['🍫', '🍫', '🍫', '🍫', '🍫', '🍫', '🍫', '🍫', '🍫', '🍫', '🍫', '🍫', '🍫', '🍫']\n",
      "['🍫', '🍫', '🍫', '🍫', '🍫', '🍫', '🍫', '🍫', '🍫', '🍫', '🍫', '🍫']\n",
      "['🍫', '🍫', '🍫', '🍫', '🍫', '🍫', '🍫', '🍫', '🍫', '🍫']\n",
      "['🍫', '🍫', '🍫', '🍫', '🍫', '🍫', '🍫', '🍫']\n",
      "['🍫', '🍫', '🍫', '🍫', '🍫', '🍫']\n",
      "['🍫', '🍫', '🍫', '🍫']\n",
      "['🍫', '🍫']\n",
      "[]\n",
      "Player 1 wins!! WINNER WINNER CHOCOLATE DINNER\n"
     ]
    }
   ],
   "source": [
    "import random\n",
    "\n",
    "def BOWL():\n",
    "    num = random.randint(10, 20)\n",
    "    chocolate_bowl = [\"🍫\" for _ in range(num)]\n",
    "    coin_toss(chocolate_bowl)\n",
    "\n",
    "def Player1(chocolate_bowl):\n",
    "    if len(chocolate_bowl) >= 1:\n",
    "        choose = 1 if len(chocolate_bowl) % 2 != 0 else 2\n",
    "        for _ in range(choose):\n",
    "            chocolate_bowl.pop()\n",
    "        print(chocolate_bowl)\n",
    "        if len(chocolate_bowl) > 0:\n",
    "            Player2(chocolate_bowl)\n",
    "        else:\n",
    "            print(\"Player 1 wins!! WINNER WINNER CHOCOLATE DINNER\")\n",
    "    else:\n",
    "        print(\"Player 2 wins!! WINNER WINNER CHOCOLATE DINNER\")\n",
    "\n",
    "def Player2(chocolate_bowl):\n",
    "    if len(chocolate_bowl) >= 1:\n",
    "        choose = 1 if len(chocolate_bowl) % 2 != 0 else 2\n",
    "        for _ in range(choose):\n",
    "            chocolate_bowl.pop()\n",
    "        print(chocolate_bowl)\n",
    "        if len(chocolate_bowl) > 0:\n",
    "            Player1(chocolate_bowl)\n",
    "        else:\n",
    "            print(\"Player 2 wins!! WINNER WINNER CHOCOLATE DINNER\")\n",
    "    else:\n",
    "        print(\"Player 1 wins!! WINNER WINNER CHOCOLATE DINNER\")\n",
    "\n",
    "def coin_toss(chocolate_bowl):\n",
    "    coin = random.choice([\"Heads\", \"Tails\"])\n",
    "    print(coin)\n",
    "    if coin == \"Heads\":\n",
    "        choose = int(input(\"Player 1: Pick the chocolate (1 or 2): \"))\n",
    "        Player1(chocolate_bowl)\n",
    "    else:\n",
    "        choose = int(input(\"Player 2: Pick the chocolate (1 or 2): \"))\n",
    "        Player2(chocolate_bowl)\n",
    "\n",
    "BOWL()\n"
   ]
  },
  {
   "cell_type": "code",
   "execution_count": 5,
   "id": "8f7ec231-bfde-4e38-bf6c-b47005f7a9a5",
   "metadata": {},
   "outputs": [
    {
     "name": "stdout",
     "output_type": "stream",
     "text": [
      "<class '__main__.new_b'>\n",
      "5000\n",
      "10000\n"
     ]
    }
   ],
   "source": [
    "class budget_tracker():\n",
    "    def __init__(self,openingbal,budget):\n",
    "        self.openingbal = openingbal\n",
    "        self.budget = budget\n",
    "\n",
    "class new_b(budget_tracker):\n",
    "    def __init__(self,openingbal,budget):\n",
    "        budget_tracker.openingbal = openingbal\n",
    "        budget_tracker.budget = budget\n",
    "\n",
    "a = new_b(5000,10000)\n",
    "print(type(a))\n",
    "print(a.openingbal)\n",
    "print(a.budget)"
   ]
  },
  {
   "cell_type": "code",
   "execution_count": 11,
   "id": "735b87e7-f94c-4f47-9b52-53dbd5261da6",
   "metadata": {},
   "outputs": [
    {
     "name": "stdout",
     "output_type": "stream",
     "text": [
      "hello\n"
     ]
    },
    {
     "ename": "AttributeError",
     "evalue": "'demo' object has no attribute '__name'",
     "output_type": "error",
     "traceback": [
      "\u001b[1;31m---------------------------------------------------------------------------\u001b[0m",
      "\u001b[1;31mAttributeError\u001b[0m                            Traceback (most recent call last)",
      "Cell \u001b[1;32mIn[11], line 7\u001b[0m\n\u001b[0;32m      5\u001b[0m obj \u001b[38;5;241m=\u001b[39m demo()\n\u001b[0;32m      6\u001b[0m \u001b[38;5;28mprint\u001b[39m(obj\u001b[38;5;241m.\u001b[39m_name)\n\u001b[1;32m----> 7\u001b[0m \u001b[38;5;28mprint\u001b[39m(\u001b[43mobj\u001b[49m\u001b[38;5;241;43m.\u001b[39;49m\u001b[43m__name\u001b[49m)\n",
      "\u001b[1;31mAttributeError\u001b[0m: 'demo' object has no attribute '__name'"
     ]
    }
   ],
   "source": [
    "class demo():\n",
    "    def __init__(self):\n",
    "        self._name = \"hello\" #public specifier\n",
    "        self.__name = \"hii\"  #private specifier\n",
    "obj = demo()\n",
    "print(obj._name)\n",
    "print(obj.__name)"
   ]
  },
  {
   "cell_type": "code",
   "execution_count": 18,
   "id": "7c74ed26-f7b3-459b-be77-1e4ec9b9a270",
   "metadata": {},
   "outputs": [
    {
     "name": "stdout",
     "output_type": "stream",
     "text": [
      "adult\n"
     ]
    }
   ],
   "source": [
    "class IF():\n",
    "    def __init__(self,name):\n",
    "        self.name = name\n",
    "    @staticmethod\n",
    "    def check(age):\n",
    "        if(age>18):\n",
    "            return \"adult\"\n",
    "        else:\n",
    "            return \"not adult\"\n",
    "obj = IF(\"aadi\")\n",
    "print(obj.check(20))"
   ]
  },
  {
   "cell_type": "code",
   "execution_count": 43,
   "id": "75ce5f09-b9cd-455b-b42d-d525e60f0da5",
   "metadata": {},
   "outputs": [
    {
     "name": "stdout",
     "output_type": "stream",
     "text": [
      "aaditya\n",
      "2004\n",
      "20\n"
     ]
    }
   ],
   "source": [
    "from datetime import date\n",
    "'''obj = date(2024,4,29)\n",
    "print(obj.year)\n",
    "print(obj.month)\n",
    "print(obj.day)\n",
    "age = (obj.year)-2004\n",
    "print(age)'''\n",
    "class person():\n",
    "    def __init__(self,name,year_of_birth):\n",
    "        self.name = name\n",
    "        self.year_of_birth = year_of_birth\n",
    "     \n",
    "class age(person):\n",
    "    def __init__(self,name,year_of_birth):\n",
    "        person.name = name \n",
    "        person.year_of_birth = year_of_birth\n",
    "    \n",
    "obj = person(\"aaditya\",2004)\n",
    "print(obj.name)\n",
    "print(obj.year_of_birth)\n",
    "obj1 = date(2024,4,29)\n",
    "age = (obj1.year)-(obj.year_of_birth)\n",
    "print(age)\n"
   ]
  },
  {
   "cell_type": "code",
   "execution_count": 36,
   "id": "0de8a49d-8177-4623-93ea-d2ed252b1bd6",
   "metadata": {},
   "outputs": [
    {
     "data": {
      "text/plain": [
       "datetime.date(2024, 4, 29)"
      ]
     },
     "execution_count": 36,
     "metadata": {},
     "output_type": "execute_result"
    }
   ],
   "source": [
    "from datetime import date\n",
    "date.today()"
   ]
  },
  {
   "cell_type": "code",
   "execution_count": 47,
   "id": "53ea223e-8335-4096-b8a3-8534d6e7a2d9",
   "metadata": {},
   "outputs": [
    {
     "ename": "TypeError",
     "evalue": "demo.class_method() missing 2 required positional arguments: 'name' and 'year'",
     "output_type": "error",
     "traceback": [
      "\u001b[1;31m---------------------------------------------------------------------------\u001b[0m",
      "\u001b[1;31mTypeError\u001b[0m                                 Traceback (most recent call last)",
      "Cell \u001b[1;32mIn[47], line 9\u001b[0m\n\u001b[0;32m      7\u001b[0m         \u001b[38;5;28;01mreturn\u001b[39;00m(\u001b[38;5;28mcls\u001b[39m,name,year)\n\u001b[0;32m      8\u001b[0m obj \u001b[38;5;241m=\u001b[39m demo(\u001b[38;5;124m\"\u001b[39m\u001b[38;5;124maaditya\u001b[39m\u001b[38;5;124m\"\u001b[39m,\u001b[38;5;241m2004\u001b[39m)\n\u001b[1;32m----> 9\u001b[0m \u001b[38;5;28mprint\u001b[39m(\u001b[43mobj\u001b[49m\u001b[38;5;241;43m.\u001b[39;49m\u001b[43mclass_method\u001b[49m\u001b[43m(\u001b[49m\u001b[43m)\u001b[49m)\n",
      "\u001b[1;31mTypeError\u001b[0m: demo.class_method() missing 2 required positional arguments: 'name' and 'year'"
     ]
    }
   ],
   "source": [
    "class demo():\n",
    "    def __init__(self,name,year):\n",
    "        self.name = name\n",
    "        self.year = year\n",
    "    @classmethod\n",
    "    def class_method(cls,name,year):\n",
    "        return(cls,name,year)\n",
    "obj = demo(\"aaditya\",2004)\n",
    "print(obj.class_method())"
   ]
  },
  {
   "cell_type": "code",
   "execution_count": 41,
   "id": "777b8a23-6c4f-47a2-9ad7-ddd73107d558",
   "metadata": {},
   "outputs": [
    {
     "ename": "TypeError",
     "evalue": "demo.classmethod() missing 2 required positional arguments: 'name' and 'year'",
     "output_type": "error",
     "traceback": [
      "\u001b[1;31m---------------------------------------------------------------------------\u001b[0m",
      "\u001b[1;31mTypeError\u001b[0m                                 Traceback (most recent call last)",
      "Cell \u001b[1;32mIn[41], line 11\u001b[0m\n\u001b[0;32m      8\u001b[0m         \u001b[38;5;28;01mreturn\u001b[39;00m \u001b[38;5;28mcls\u001b[39m(name, year)\n\u001b[0;32m     10\u001b[0m obj \u001b[38;5;241m=\u001b[39m demo(\u001b[38;5;124m\"\u001b[39m\u001b[38;5;124maaditya\u001b[39m\u001b[38;5;124m\"\u001b[39m,\u001b[38;5;241m2004\u001b[39m)\n\u001b[1;32m---> 11\u001b[0m \u001b[38;5;28mprint\u001b[39m(\u001b[43mobj\u001b[49m\u001b[38;5;241;43m.\u001b[39;49m\u001b[43mclassmethod\u001b[49m\u001b[43m(\u001b[49m\u001b[43m)\u001b[49m)\n",
      "\u001b[1;31mTypeError\u001b[0m: demo.classmethod() missing 2 required positional arguments: 'name' and 'year'"
     ]
    }
   ],
   "source": []
  },
  {
   "cell_type": "code",
   "execution_count": 44,
   "id": "4a7a0f32-3912-4e06-9da5-e6b9ca4a1943",
   "metadata": {},
   "outputs": [
    {
     "name": "stdout",
     "output_type": "stream",
     "text": [
      "<__main__.demo object at 0x00000227E84E6480>\n"
     ]
    }
   ],
   "source": [
    "class demo():\n",
    "    def __init__(self,name,year):\n",
    "        self.name = name\n",
    "        self.year = year\n",
    "        \n",
    "    @classmethod\n",
    "    def classmethod(cls, name, year):\n",
    "        return cls(name, year)\n",
    "\n",
    "obj = demo(\"aaditya\",2004)\n",
    "print(obj.classmethod(\"John\", 1999))\n"
   ]
  },
  {
   "cell_type": "code",
   "execution_count": 52,
   "id": "dad2373f-cbc8-4df3-b4b1-9acc5aa72f82",
   "metadata": {},
   "outputs": [
    {
     "ename": "AttributeError",
     "evalue": "'Android_gadget' object has no attribute 'AGE'",
     "output_type": "error",
     "traceback": [
      "\u001b[1;31m---------------------------------------------------------------------------\u001b[0m",
      "\u001b[1;31mAttributeError\u001b[0m                            Traceback (most recent call last)",
      "Cell \u001b[1;32mIn[52], line 17\u001b[0m\n\u001b[0;32m     14\u001b[0m         \u001b[38;5;28;01mreturn\u001b[39;00m final_value\n\u001b[0;32m     16\u001b[0m obj \u001b[38;5;241m=\u001b[39m Android_gadget(\u001b[38;5;124m\"\u001b[39m\u001b[38;5;124msamsung\u001b[39m\u001b[38;5;124m\"\u001b[39m,\u001b[38;5;241m2020\u001b[39m)\n\u001b[1;32m---> 17\u001b[0m \u001b[38;5;28mprint\u001b[39m(\u001b[43mobj\u001b[49m\u001b[38;5;241;43m.\u001b[39;49m\u001b[43mvaluededuction\u001b[49m\u001b[43m(\u001b[49m\u001b[43m)\u001b[49m)\n",
      "Cell \u001b[1;32mIn[52], line 13\u001b[0m, in \u001b[0;36mAndroid_gadget.valuededuction\u001b[1;34m(self)\u001b[0m\n\u001b[0;32m     12\u001b[0m \u001b[38;5;28;01mdef\u001b[39;00m \u001b[38;5;21mvaluededuction\u001b[39m(\u001b[38;5;28mself\u001b[39m):\n\u001b[1;32m---> 13\u001b[0m     final_value \u001b[38;5;241m=\u001b[39m (Android_gadget\u001b[38;5;241m.\u001b[39m_base_price)\u001b[38;5;241m*\u001b[39m(\u001b[38;5;241m1\u001b[39m\u001b[38;5;241m/\u001b[39m\u001b[38;5;28;43mself\u001b[39;49m\u001b[38;5;241;43m.\u001b[39;49m\u001b[43mAGE\u001b[49m)\n\u001b[0;32m     14\u001b[0m     \u001b[38;5;28;01mreturn\u001b[39;00m final_value\n",
      "\u001b[1;31mAttributeError\u001b[0m: 'Android_gadget' object has no attribute 'AGE'"
     ]
    }
   ],
   "source": [
    "class Android_gadget():\n",
    "    _current_year = 2024\n",
    "    _base_price = 15000\n",
    "    def __init__(self,brand_name,mobile_year):\n",
    "        self.brand_name = brand_name\n",
    "        self.mobile_year = mobile_year\n",
    "        \n",
    "    def age_of_mobile(self):\n",
    "        AGE = (Android_gadget._current_year)-(self.mobile_year)\n",
    "        return AGE\n",
    "\n",
    "    def valuededuction(self):\n",
    "        final_value = (Android_gadget._base_price)*(1/self.AGE)\n",
    "        return final_value\n",
    "        \n",
    "obj = Android_gadget(\"samsung\",2020)\n",
    "print(obj.valuededuction())\n",
    "        "
   ]
  },
  {
   "cell_type": "code",
   "execution_count": 76,
   "id": "bc436cdf-f83c-4b3f-bee7-431f207a7c5a",
   "metadata": {},
   "outputs": [
    {
     "name": "stdout",
     "output_type": "stream",
     "text": [
      "The deducted amount is3750.0 and unit processed is 1\n",
      "The deducted amount is1875.0 and unit processed is 2\n"
     ]
    }
   ],
   "source": [
    "class Android_gadget():\n",
    "    _current_year = 2024\n",
    "    _base_price = 15000\n",
    "    _new_processed = 0\n",
    "    \n",
    "    def __init__(self, brand_name, mobile_year):\n",
    "        self.brand_name = brand_name\n",
    "        if mobile_year <= Android_gadget._current_year:\n",
    "            self.mobile_year = mobile_year\n",
    "        else:\n",
    "            raise ValueError(\"Incorrect model year\")\n",
    "        \n",
    "    def age_of_mobile(self):\n",
    "        AGE = Android_gadget._current_year - self.mobile_year\n",
    "        return AGE\n",
    "\n",
    "    def valuededuction(self):\n",
    "        try:\n",
    "            final_value = Android_gadget._base_price * (1 / self.age_of_mobile())\n",
    "        except:\n",
    "            raise ZeroDivisionError (\"you can not devide it by zero\")\n",
    "        Android_gadget._new_processed +=1\n",
    "        return (f\"The deducted amount is{final_value} and unit processed is {Android_gadget._new_processed}\")\n",
    "        \n",
    "obj = Android_gadget(\"samsung\", 2020)\n",
    "print(obj.valuededuction())\n",
    "obj2 = Android_gadget(\"ramsung\",2016)\n",
    "print(obj2.valuededuction())\n"
   ]
  },
  {
   "cell_type": "code",
   "execution_count": 4,
   "id": "0876cfd0-0b37-4579-a9fa-59861a15bb9d",
   "metadata": {},
   "outputs": [
    {
     "name": "stdout",
     "output_type": "stream",
     "text": [
      "The deducted amount is 3750.0 and units processed are 1\n",
      "The deducted amount is 1875.0 and units processed are 2\n"
     ]
    }
   ],
   "source": [
    "class Android_gadget():\n",
    "    _current_year = 2024\n",
    "    _base_price = 15000\n",
    "    _new_processed = 0\n",
    "    \n",
    "    def __init__(self, brand_name, mobile_year):\n",
    "        self.brand_name = brand_name\n",
    "        if mobile_year <= Android_gadget._current_year:\n",
    "            self.mobile_year = mobile_year\n",
    "        else:\n",
    "            raise ValueError(\"Incorrect model year\")\n",
    "\n",
    "    def age_of_mobile(self):\n",
    "        return Android_gadget._current_year - self.mobile_year if hasattr(self, 'mobile_year') else None\n",
    "\n",
    "    def valuededuction(self):\n",
    "        age = self.age_of_mobile()\n",
    "        if age == 0:\n",
    "            raise ValueError(\"Cannot divide by zero\")\n",
    "        final_value = Android_gadget._base_price / age\n",
    "        Android_gadget._new_processed += 1\n",
    "        return f\"The deducted amount is {final_value} and units processed are {Android_gadget._new_processed}\"\n",
    "\n",
    "\n",
    "obj = Android_gadget(\"Samsung\", 2020)\n",
    "print(obj.valuededuction())\n",
    "\n",
    "obj2 = Android_gadget(\"Ramsung\", 2016)\n",
    "print(obj2.valuededuction())\n",
    "\n",
    "#obj3 = IosHandset(\"redmi\",2019)\n",
    "#print(obj3.valuededuction())\n"
   ]
  },
  {
   "cell_type": "code",
   "execution_count": 5,
   "id": "6fd0a8aa-e095-419d-9529-56c48aebf8fa",
   "metadata": {},
   "outputs": [
    {
     "name": "stdout",
     "output_type": "stream",
     "text": [
      "The deducted amount is 5000.0 and units processed are 1\n",
      "The deducted amount is 2500.0 and units processed are 2\n",
      "The deducted amount is 4000.0 and units processed are 3\n"
     ]
    }
   ],
   "source": [
    "class Android_gadget():\n",
    "    _current_year = 2024\n",
    "    _base_price = 15000\n",
    "    _new_processed = 0\n",
    "    \n",
    "    def __init__(self, brand_name, mobile_year):\n",
    "        self.brand_name = brand_name\n",
    "        if mobile_year <= Android_gadget._current_year:\n",
    "            self.mobile_year = mobile_year\n",
    "        else:\n",
    "            raise ValueError(\"Incorrect model year\")\n",
    "\n",
    "    def age_of_mobile(self):\n",
    "        return Android_gadget._current_year - self.mobile_year if hasattr(self, 'mobile_year') else None\n",
    "\n",
    "    def valuededuction(self):\n",
    "        age = self.age_of_mobile()\n",
    "        if age == 0:\n",
    "            raise ValueError(\"Cannot divide by zero\")\n",
    "        final_value = Android_gadget._base_price / age\n",
    "        Android_gadget._new_processed += 1\n",
    "        return f\"The deducted amount is {final_value} and units processed are {Android_gadget._new_processed}\"\n",
    "\n",
    "class IosHandset(Android_gadget):\n",
    "    Android_gadget._base_price = 20000\n",
    "    def __init__(self,brand_name,mobile_year):\n",
    "        super() .__init__(brand_name,mobile_year)\n",
    "        #Android_gadget.brand_name=brand_name\n",
    "        #Android_gadget.mobile_year=mob\n",
    "    \n",
    "    def age_of_mobile(self):\n",
    "        return Android_gadget._current_year - self.mobile_year if hasattr(self, 'mobile_year') else None\n",
    "        \n",
    "    def valuededuction(self):\n",
    "        age = self.age_of_mobile()\n",
    "        if age == 0:\n",
    "            raise ValueError(\"Cannot divide by zero\")\n",
    "        final_value = Android_gadget._base_price / age\n",
    "        Android_gadget._new_processed += 1\n",
    "        return f\"The deducted amount is {final_value} and units processed are {Android_gadget._new_processed}\"\n",
    "\n",
    "obj = Android_gadget(\"Samsung\", 2020)\n",
    "print(obj.valuededuction())\n",
    "\n",
    "obj2 = Android_gadget(\"Ramsung\", 2016)\n",
    "print(obj2.valuededuction())\n",
    "\n",
    "obj3 = IosHandset(\"redmi\",2019)\n",
    "print(obj3.valuededuction())\n"
   ]
  },
  {
   "cell_type": "code",
   "execution_count": null,
   "id": "8280b8e8-743f-429f-94b6-6308affa7307",
   "metadata": {},
   "outputs": [],
   "source": [
    "class Area:\n",
    "    pie = 3.14\n",
    "    def __init__(self,radius):\n",
    "        self.radius = radius\n",
    "    def area_of_circle(self):\n",
    "        print(f\"area of circle is {self.pie*(self.radius*self.radius)}\")\n",
    "    def parameter(self):\n",
    "        print(f\" the parametre of circle is {2*self.pie*self.radius}\")\n",
    "\n",
    "radius = Area(5)\n",
    "radius.area_of_circle()\n",
    "radius.parameter()\n",
    "        \n"
   ]
  },
  {
   "cell_type": "code",
   "execution_count": 6,
   "id": "6afb989f-b8d8-4129-ba4f-e347de2e29ad",
   "metadata": {},
   "outputs": [
    {
     "name": "stdout",
     "output_type": "stream",
     "text": [
      "your final discount on gucci after deducting discount is 500 final price is 7000\n"
     ]
    },
    {
     "ename": "TypeError",
     "evalue": "object.__init__() takes exactly one argument (the instance to initialize)",
     "output_type": "error",
     "traceback": [
      "\u001b[1;31m---------------------------------------------------------------------------\u001b[0m",
      "\u001b[1;31mTypeError\u001b[0m                                 Traceback (most recent call last)",
      "Cell \u001b[1;32mIn[6], line 22\u001b[0m\n\u001b[0;32m     20\u001b[0m obj \u001b[38;5;241m=\u001b[39m ShoppingDiscount(\u001b[38;5;124m\"\u001b[39m\u001b[38;5;124mgucci\u001b[39m\u001b[38;5;124m\"\u001b[39m,\u001b[38;5;241m7500\u001b[39m)\n\u001b[0;32m     21\u001b[0m \u001b[38;5;28mprint\u001b[39m(obj\u001b[38;5;241m.\u001b[39mfinalprice())\n\u001b[1;32m---> 22\u001b[0m obj2 \u001b[38;5;241m=\u001b[39m \u001b[43mNewDiscount\u001b[49m\u001b[43m(\u001b[49m\u001b[38;5;124;43m\"\u001b[39;49m\u001b[38;5;124;43mnike\u001b[39;49m\u001b[38;5;124;43m\"\u001b[39;49m\u001b[43m,\u001b[49m\u001b[38;5;241;43m7500\u001b[39;49m\u001b[43m)\u001b[49m\n\u001b[0;32m     23\u001b[0m \u001b[38;5;28mprint\u001b[39m(obj2\u001b[38;5;241m.\u001b[39mfinalprice())\n",
      "Cell \u001b[1;32mIn[6], line 14\u001b[0m, in \u001b[0;36mNewDiscount.__init__\u001b[1;34m(self, brand_name, MRP)\u001b[0m\n\u001b[0;32m     13\u001b[0m \u001b[38;5;28;01mdef\u001b[39;00m \u001b[38;5;21m__init__\u001b[39m(\u001b[38;5;28mself\u001b[39m,brand_name,MRP):\n\u001b[1;32m---> 14\u001b[0m     \u001b[38;5;28;43msuper\u001b[39;49m\u001b[43m(\u001b[49m\u001b[43m)\u001b[49m\u001b[43m \u001b[49m\u001b[38;5;241;43m.\u001b[39;49m\u001b[38;5;21;43m__init__\u001b[39;49m\u001b[43m(\u001b[49m\u001b[38;5;28;43mself\u001b[39;49m\u001b[43m)\u001b[49m\n",
      "\u001b[1;31mTypeError\u001b[0m: object.__init__() takes exactly one argument (the instance to initialize)"
     ]
    }
   ],
   "source": [
    "class ShoppingDiscount():\n",
    "    _current_discount = 1000\n",
    "    def __init__(self,brand_name,MRP):\n",
    "        self.brand_name=brand_name\n",
    "        self.MRP=MRP\n",
    "    def finalprice(self):\n",
    "        after_discount = (self.MRP) - (ShoppingDiscount._current_discount)\n",
    "        return f\"your final discount on {self.brand_name} after deducting discount is {ShoppingDiscount._current_discount} final price is {after_discount}\"\n",
    "\n",
    "\n",
    "class NewDiscount():\n",
    "    ShoppingDiscount._current_discount = 500\n",
    "    def __init__(self,brand_name,MRP):\n",
    "        super() .__init__(brand_name,MRP)\n",
    "    def finalprice(self):\n",
    "        after_discount = (self.MRP) - (ShoppingDiscount._current_discount)\n",
    "        return f\"your final discount on {self.brand_name} after deducting discount is {ShoppingDiscount._current_discount} final price is {after_discount}\"\n",
    "    \n",
    "\n",
    "obj = ShoppingDiscount(\"gucci\",7500)\n",
    "print(obj.finalprice())\n",
    "obj2 = NewDiscount(\"nike\",7500)\n",
    "print(obj2.finalprice())"
   ]
  },
  {
   "cell_type": "code",
   "execution_count": 7,
   "id": "a0a60339-cfec-491f-ab44-4f99cb8cd4c2",
   "metadata": {},
   "outputs": [
    {
     "name": "stdout",
     "output_type": "stream",
     "text": [
      "Your final discount on Gucci after deducting discount is 1000. Final price is 6500\n",
      "Your final discount on Nike after deducting discount is 500. Final price is 7000\n"
     ]
    }
   ],
   "source": [
    "class ShoppingDiscount():\n",
    "    _current_discount = 1000\n",
    "\n",
    "    def __init__(self, brand_name, MRP):\n",
    "        self.brand_name = brand_name\n",
    "        self.MRP = MRP\n",
    "\n",
    "    def finalprice(self):\n",
    "        after_discount = self.MRP - ShoppingDiscount._current_discount\n",
    "        return f\"Your final discount on {self.brand_name} after deducting discount is {ShoppingDiscount._current_discount}. Final price is {after_discount}\"\n",
    "\n",
    "\n",
    "class NewDiscount(ShoppingDiscount):  # Inherit from ShoppingDiscount\n",
    "    _current_discount = 500  # Override the _current_discount value\n",
    "\n",
    "    def __init__(self, brand_name, MRP):\n",
    "        super().__init__(brand_name, MRP)  # Call superclass constructor\n",
    "\n",
    "    def finalprice(self):\n",
    "        after_discount = self.MRP - self._current_discount  # Access _current_discount from the current class\n",
    "        return f\"Your final discount on {self.brand_name} after deducting discount is {self._current_discount}. Final price is {after_discount}\"\n",
    "\n",
    "\n",
    "obj = ShoppingDiscount(\"Gucci\", 7500)\n",
    "print(obj.finalprice())\n",
    "\n",
    "obj2 = NewDiscount(\"Nike\", 7500)\n",
    "print(obj2.finalprice())\n"
   ]
  },
  {
   "cell_type": "code",
   "execution_count": null,
   "id": "618b0ce9-6c3a-4a19-9024-d6e42d355ed7",
   "metadata": {},
   "outputs": [],
   "source": [
    "class BikeAvailability():\n",
    "    _Shinesp125 = \"available\"\n",
    "    _rider = \"available\"\n",
    "    _pulsar = \"available\"\n",
    "    def __init__(self,bike_name):\n",
    "        self.bike_name = bike_name\n",
    "    def availability(self):\n",
    "        return f\"Bike you were looking for {self.bike_name} is {BikeAvailability._Shinesp125}\"\n",
    "obj1 = \n",
    "\n",
    "\n",
    "    "
   ]
  },
  {
   "cell_type": "code",
   "execution_count": 10,
   "id": "ac5e2222-96d8-43f1-838e-6667357949c4",
   "metadata": {},
   "outputs": [
    {
     "ename": "IndentationError",
     "evalue": "expected an indented block after 'if' statement on line 3 (2641844490.py, line 4)",
     "output_type": "error",
     "traceback": [
      "\u001b[1;36m  Cell \u001b[1;32mIn[10], line 4\u001b[1;36m\u001b[0m\n\u001b[1;33m    except:\u001b[0m\n\u001b[1;37m           ^\u001b[0m\n\u001b[1;31mIndentationError\u001b[0m\u001b[1;31m:\u001b[0m expected an indented block after 'if' statement on line 3\n"
     ]
    }
   ],
   "source": [
    "age = int(input(\"enter the age:\"))\n",
    "try:\n",
    "    if(age>18):\n",
    "except:\n",
    "    print(\"yes\")\n",
    "else:\n",
    "    print(\"no\")"
   ]
  },
  {
   "cell_type": "code",
   "execution_count": 9,
   "id": "99f7b74c-79ed-492f-87d9-51a9454e5a42",
   "metadata": {},
   "outputs": [
    {
     "name": "stdout",
     "output_type": "stream",
     "text": [
      "i can work\n",
      "i can code\n",
      "None\n",
      "<class '__main__.Male'>\n",
      "i can work\n",
      "i can code\n",
      "None\n",
      "2\n",
      "1\n"
     ]
    }
   ],
   "source": [
    "class human:\n",
    "    def __init__(self):\n",
    "        self.eye = 2\n",
    "        self. nose = 1\n",
    "    def eat(self):\n",
    "        print(\"i can eat\")\n",
    "    def work(self):\n",
    "        print(\"i can work\")\n",
    "\n",
    "class Male(human):\n",
    "    def __init__(self,name):\n",
    "        super().__init__() #this means init function of super\n",
    "        self.name = name\n",
    "    def flirt(self):\n",
    "        print(\"i can flirt\")\n",
    "    #here we override the method of parent class to the child class. changing the variables and methods of any super or parent class is known as overriding\n",
    "    #if i wants to use the work method of parent class also then we can use super()\n",
    "    def work(self):\n",
    "        super().work()\n",
    "        print(\"i can code\")\n",
    "\n",
    "obj = Male(\"aaditya\")\n",
    "print(obj.work())\n",
    "print(type(obj))\n",
    "print(obj.work())\n",
    "print(obj.eye) #now if we call eye attribute in class Male so it will give eror because we have defined init of its own function and to call eye attribute we have to use super()\n",
    "print(obj.nose)"
   ]
  },
  {
   "cell_type": "code",
   "execution_count": 12,
   "id": "4b0b9aeb-a73a-462a-8a25-7ec026211889",
   "metadata": {},
   "outputs": [
    {
     "name": "stdout",
     "output_type": "stream",
     "text": [
      "i can test\n",
      "None\n",
      "i can code\n",
      "i can test\n",
      "None\n",
      "Adityqa\n"
     ]
    }
   ],
   "source": [
    "class Human:\n",
    "    def __init__(self):\n",
    "        self.Eyes = 2\n",
    "        self.Nose = 1\n",
    "    def sleep(self):\n",
    "        print(\"i can sleep\")\n",
    "    def work(self):\n",
    "        print(\"i can work\")\n",
    "\n",
    "class Male:\n",
    "    def __init__(self,name):\n",
    "        self.name = name\n",
    "    def fliart(self):\n",
    "        print(\"i ca flirt\")\n",
    "    def work(self):\n",
    "        print(\"i can code\")\n",
    "\n",
    "class Boy(Human,Male):\n",
    "    def __init__(self,name):\n",
    "        Human.__init__(self)\n",
    "        Male.__init__(self,name)\n",
    "    def work(self):\n",
    "        print(\"i can test\")\n",
    "\n",
    "obj = Boy(\"Adityqa\")\n",
    "print(obj.work())  #here \" i can work is printed \" because when we call other two classes in a chiild class so the order of defining or the sequence of defining is given priorities just like hhere we call Human first so the work class of human is called.\n",
    "Male.work(obj)  #here we can call work method from another class using this way\n",
    "#print(obj.Eyes)\n",
    "print(obj.work())   #here \"i can test\" is printed because if any called object having that method than it will be called first\n",
    "#print(obj.name) #here this will give error because object doen not have name attribute\n",
    "print(obj.name)\n",
    "\n"
   ]
  },
  {
   "cell_type": "code",
   "execution_count": null,
   "id": "e9a53881-5040-4502-923f-28054aac2a41",
   "metadata": {},
   "outputs": [],
   "source": []
  }
 ],
 "metadata": {
  "kernelspec": {
   "display_name": "Python 3 (ipykernel)",
   "language": "python",
   "name": "python3"
  },
  "language_info": {
   "codemirror_mode": {
    "name": "ipython",
    "version": 3
   },
   "file_extension": ".py",
   "mimetype": "text/x-python",
   "name": "python",
   "nbconvert_exporter": "python",
   "pygments_lexer": "ipython3",
   "version": "3.12.3"
  }
 },
 "nbformat": 4,
 "nbformat_minor": 5
}
