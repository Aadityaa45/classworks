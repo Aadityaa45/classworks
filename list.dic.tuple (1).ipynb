{
 "cells": [
  {
   "cell_type": "markdown",
   "id": "77647401-5213-4c33-bc24-a1eaf3f1853b",
   "metadata": {},
   "source": [
    "#### Practice of concepts of list tupple and dictionary"
   ]
  },
  {
   "cell_type": "code",
   "execution_count": 6,
   "id": "e699b866-d3d6-4f4d-be06-48e90b6a95a3",
   "metadata": {},
   "outputs": [
    {
     "name": "stdout",
     "output_type": "stream",
     "text": [
      "the isze of tuple is: 6\n",
      "72\n"
     ]
    }
   ],
   "source": [
    "Tuple2 = (\"Geek1\", \"Raju\", \"Geek2\", \"Nikhil\", \"Geek3\", \"Deepanshu\")\n",
    "print(\"the isze of tuple is:\",len(Tuple2))\n",
    "print(Tuple2.__sizeof__() )"
   ]
  },
  {
   "cell_type": "code",
   "execution_count": 7,
   "id": "a488541f-6ca2-4870-8be1-ab08079f93a6",
   "metadata": {},
   "outputs": [
    {
     "name": "stdout",
     "output_type": "stream",
     "text": [
      "[(9, 729), (5, 125), (6, 216)]\n"
     ]
    }
   ],
   "source": [
    "lista = [9, 5, 6]\n",
    "emp = []\n",
    "for i in lista:\n",
    "    tup = (i,i**3)\n",
    "    emp.append(tup)\n",
    "print(emp)"
   ]
  },
  {
   "cell_type": "code",
   "execution_count": 6,
   "id": "f8eb11a4-9b87-450d-b325-09da95152037",
   "metadata": {},
   "outputs": [
    {
     "name": "stdout",
     "output_type": "stream",
     "text": [
      "[5, 6, 7, 9, 10]\n",
      "(4, 2, 7, 4, 5, 4, 7, 5, 6, 7)\n",
      "[5, 6, 7, (9, 10)]\n"
     ]
    }
   ],
   "source": [
    "#adding tupple to list and vice versa\n",
    "test_list = [5, 6, 7]\n",
    "test_tup = (9, 10)\n",
    "sum = test_list+list(test_tup)\n",
    "print(sum)\n",
    "tup1 = (4,2,7,4,5)\n",
    "list1 = [4,7,5,6,7]\n",
    "sum = tup1+tuple(list1)\n",
    "print(sum)\n",
    "my_list = [5, 6, 7]\n",
    "my_tuple = (9, 10)\n",
    "my_list.insert(3,my_tuple)\n",
    "print(my_list)"
   ]
  },
  {
   "cell_type": "code",
   "execution_count": 10,
   "id": "6c8842b5-7a0b-4d5d-8b01-390d9de1b501",
   "metadata": {},
   "outputs": [
    {
     "name": "stdout",
     "output_type": "stream",
     "text": [
      "27\n"
     ]
    }
   ],
   "source": [
    "#sum of tuple elements\n",
    "tup = (1,3,5,7,9,2)\n",
    "sum = 0\n",
    "for i in tup:\n",
    "    sum = sum+i\n",
    "print(sum)\n",
    "    "
   ]
  },
  {
   "cell_type": "code",
   "execution_count": 15,
   "id": "7b69f75c-b64f-440b-9438-ef7a12333058",
   "metadata": {},
   "outputs": [
    {
     "name": "stdout",
     "output_type": "stream",
     "text": [
      "0\n",
      "0\n",
      "7\n",
      "0\n",
      "3\n",
      "0\n"
     ]
    }
   ],
   "source": [
    "#modulo of tuple elements\n",
    "tup1 = (2,5,7,8,3,6)\n",
    "tup2 = (2,5,9,4,8,2)\n",
    "for i in range(0,len(tup1)):\n",
    "    print(tup1[i]%tup2[i])\n"
   ]
  },
  {
   "cell_type": "code",
   "execution_count": null,
   "id": "034aba01-4cfe-4616-8611-fa15e7b51b74",
   "metadata": {},
   "outputs": [],
   "source": [
    "test_list = [[('Gfg', 3)], [('best', 1)]] \n",
    "cus_eles = [1, 2]\n",
    "result_list=[]\n",
    "for i in test_list:\n",
    "    result_list.append(cus_eles[0])\n",
    "print(test_list)"
   ]
  },
  {
   "cell_type": "code",
   "execution_count": null,
   "id": "0bea033a-a11f-4e0a-b279-1f53b8594182",
   "metadata": {},
   "outputs": [],
   "source": [
    "test_list = [(6, 24, 12), (60, 12, 6), (12, 18, 21)]\n",
    "k = int(input(\"ente the number:\"))\n",
    "for i in test_list:\n",
    "    if(i%k==0):\n",
    "        print(i)"
   ]
  },
  {
   "cell_type": "code",
   "execution_count": 2,
   "id": "f59b2841-0ead-4280-bc81-14ef7a834fbd",
   "metadata": {},
   "outputs": [
    {
     "name": "stdout",
     "output_type": "stream",
     "text": [
      "[1, 3, 7, 9, 18]\n",
      "18\n"
     ]
    }
   ],
   "source": [
    "tup = (3, 7, 1, 18, 9)\n",
    "temp = list(tup)\n",
    "temp.sort()\n",
    "print(temp)\n",
    "newlist = []\n",
    "print(temp[-1])"
   ]
  },
  {
   "cell_type": "code",
   "execution_count": 7,
   "id": "22868f42-7d23-4b81-9cf0-e8774757bb2e",
   "metadata": {},
   "outputs": [
    {
     "name": "stdout",
     "output_type": "stream",
     "text": [
      "1\n",
      "6\n",
      "9\n",
      "16\n",
      "21\n",
      "25\n",
      "34\n",
      "39\n",
      "total sum is: 39\n"
     ]
    }
   ],
   "source": [
    "#sum of tupple elements\n",
    "tup=(1,5,3,7,5,4,9,5)\n",
    "sum = 0\n",
    "for i in tup:\n",
    "    sum=sum+i\n",
    "    print(sum)\n",
    "print(\"total sum is:\",sum)"
   ]
  },
  {
   "cell_type": "code",
   "execution_count": 12,
   "id": "1a59d386-315f-4f09-a557-270a9177bd2c",
   "metadata": {},
   "outputs": [
    {
     "name": "stdout",
     "output_type": "stream",
     "text": [
      "4\n",
      "10\n",
      "16\n",
      "12\n",
      "11\n",
      "8\n",
      "4\n"
     ]
    }
   ],
   "source": [
    "tup1 = (2,5,7,8,3,6)\n",
    "tup2 = (2,5,9,4,8,2)\n",
    "for i in range(0,len(tup1)):\n",
    "    print(tup1[i]+tup2[i])\n",
    "print(tup1[0]+tup2[0])"
   ]
  },
  {
   "cell_type": "code",
   "execution_count": 17,
   "id": "9f815b7c-b8e6-45f5-a804-71ff9af0a1bd",
   "metadata": {},
   "outputs": [
    {
     "ename": "TypeError",
     "evalue": "'builtin_function_or_method' object is not subscriptable",
     "output_type": "error",
     "traceback": [
      "\u001b[1;31m---------------------------------------------------------------------------\u001b[0m",
      "\u001b[1;31mTypeError\u001b[0m                                 Traceback (most recent call last)",
      "Cell \u001b[1;32mIn[17], line 3\u001b[0m\n\u001b[0;32m      1\u001b[0m test_list \u001b[38;5;241m=\u001b[39m [[(\u001b[38;5;124m'\u001b[39m\u001b[38;5;124mGfg\u001b[39m\u001b[38;5;124m'\u001b[39m, \u001b[38;5;241m3\u001b[39m)], [(\u001b[38;5;124m'\u001b[39m\u001b[38;5;124mbest\u001b[39m\u001b[38;5;124m'\u001b[39m, \u001b[38;5;241m1\u001b[39m)]]\n\u001b[0;32m      2\u001b[0m cus_eles \u001b[38;5;241m=\u001b[39m [\u001b[38;5;241m1\u001b[39m, \u001b[38;5;241m2\u001b[39m] \n\u001b[1;32m----> 3\u001b[0m \u001b[43mtest_list\u001b[49m\u001b[38;5;241;43m.\u001b[39;49m\u001b[43minsert\u001b[49m\u001b[43m[\u001b[49m\u001b[38;5;241;43m0\u001b[39;49m\u001b[43m]\u001b[49m(\u001b[38;5;241m2\u001b[39m,cus_eles[\u001b[38;5;241m0\u001b[39m])\n\u001b[0;32m      4\u001b[0m \u001b[38;5;28mprint\u001b[39m(test_list)\n",
      "\u001b[1;31mTypeError\u001b[0m: 'builtin_function_or_method' object is not subscriptable"
     ]
    }
   ],
   "source": [
    "test_list = [[('Gfg', 3)], [('best', 1)]]\n",
    "cus_eles = [1, 2] \n",
    "test_list.insert(2,cus_eles[0])\n",
    "print(test_list)"
   ]
  },
  {
   "cell_type": "code",
   "execution_count": 1,
   "id": "69bce628-4a78-44c1-ad53-b8e9a880ea44",
   "metadata": {},
   "outputs": [
    {
     "name": "stdout",
     "output_type": "stream",
     "text": [
      "[('sem1', ['cct', 'des', 'maths', 'phy', 'jom']), ('sem2', ['desthinking', 'poe', 'fop', 'itc']), ('sem3', ['A', 'B', 'C', 'D', 'E'])]\n",
      "{'sem1': ['cct', 'des', 'maths', 'phy', 'jom'], 'sem2': ['desthinking', 'poe', 'fop', 'itc'], 'sem3': ['A', 'B', 'C', 'D', 'E']}\n",
      "Choose an operation to perform : \n",
      "ENTER 1 FOR SEEING THE COURSES IN A SEMESTER\n",
      "ENTER 2 FOR FINDING THE SEMESTER OF A COURSE\n"
     ]
    },
    {
     "name": "stdin",
     "output_type": "stream",
     "text": [
      "Enter Your Choice :  1\n",
      "Choose a semester for displaying courses within it : \n",
      "(You can type sem1, sem2, sem3)\n",
      "Enter your choice :  sem1\n"
     ]
    },
    {
     "name": "stdout",
     "output_type": "stream",
     "text": [
      "The courses covered are : \n",
      "cct\n",
      "des\n",
      "maths\n",
      "phy\n",
      "jom\n"
     ]
    }
   ],
   "source": [
    "list1 = ['sem1','sem2','sem3']\n",
    "list2 = [['cct','des','maths','phy','jom'],['desthinking','poe','fop','itc'],['A','B','C','D','E']]\n",
    "joint_list = []\n",
    "for ele1,ele2 in zip(list1,list2):\n",
    "    tupple = (ele1,ele2)\n",
    "    joint_list.append(tupple)    \n",
    "print(joint_list)\n",
    "dictf = dict(joint_list)\n",
    "print(dictf)\n",
    "\n",
    "print(\"Choose an operation to perform : \\nENTER 1 FOR SEEING THE COURSES IN A SEMESTER\\nENTER 2 FOR FINDING THE SEMESTER OF A COURSE\")\n",
    "choice = input(\"Enter Your Choice : \")\n",
    "if choice=='1':\n",
    "    sem_choice = input(\"Choose a semester for displaying courses within it : \\n(You can type sem1, sem2, sem3)\\nEnter your choice : \")\n",
    "    for x,y in dictf.items():\n",
    "        if x == sem_choice :\n",
    "            print(\"The courses covered are : \")\n",
    "            for disp in y:\n",
    "                print(disp)\n",
    "            break\n",
    "    else:\n",
    "        print(\"Your choice cannot be detected or displayed at the moment\")\n",
    "\n",
    "elif choice=='2':\n",
    "    course_name = input(\"Enter the name course to be found : \")\n",
    "    check=0\n",
    "    for x,y in dictf.items():\n",
    "        if check==1:\n",
    "            break\n",
    "        for element in y:\n",
    "            if element==course_name:\n",
    "                print(\"This course is covered under\",x)\n",
    "                check=1\n",
    "                break  \n",
    "    if check==0:\n",
    "        print(\"The course\",course_name,\"cannot be found or detected.\")\n",
    "\n",
    "else :\n",
    "    print(\"Invalid Choice. Enter a valid entity.\")"
   ]
  },
  {
   "cell_type": "code",
   "execution_count": 31,
   "id": "f5867c97-3219-4c0f-98f2-6ed0b397f681",
   "metadata": {},
   "outputs": [
    {
     "name": "stdout",
     "output_type": "stream",
     "text": [
      "5\n",
      "(5, 35, 56, 80)\n"
     ]
    }
   ],
   "source": [
    "test_tup = (1, 5, 7, 8, 10)\n",
    "print(len(test_tup))\n",
    "newlist = []\n",
    "for i in range(len(test_tup)-1):\n",
    "    newlist.append(test_tup[i]*test_tup[i+1])\n",
    "tup = tuple(newlist)\n",
    "print(tup)\n",
    "    "
   ]
  },
  {
   "cell_type": "code",
   "execution_count": 30,
   "id": "97ca16e3-4c65-4f04-821b-297d7e9aa957",
   "metadata": {},
   "outputs": [
    {
     "ename": "TypeError",
     "evalue": "'tuple' object is not callable",
     "output_type": "error",
     "traceback": [
      "\u001b[1;31m---------------------------------------------------------------------------\u001b[0m",
      "\u001b[1;31mTypeError\u001b[0m                                 Traceback (most recent call last)",
      "Cell \u001b[1;32mIn[30], line 5\u001b[0m\n\u001b[0;32m      3\u001b[0m \u001b[38;5;28mlen\u001b[39m(test_tup)\n\u001b[0;32m      4\u001b[0m \u001b[38;5;28;01mfor\u001b[39;00m i \u001b[38;5;129;01min\u001b[39;00m test_tup:\n\u001b[1;32m----> 5\u001b[0m     newlist\u001b[38;5;241m.\u001b[39mappend(\u001b[43mtest_tup\u001b[49m\u001b[43m(\u001b[49m\u001b[43mi\u001b[49m\u001b[43m)\u001b[49m\u001b[38;5;241m*\u001b[39mtest_tup(i\u001b[38;5;241m+\u001b[39m\u001b[38;5;241m1\u001b[39m))\n\u001b[0;32m      6\u001b[0m tup \u001b[38;5;241m=\u001b[39m \u001b[38;5;28mtuple\u001b[39m(newlist)\n\u001b[0;32m      7\u001b[0m \u001b[38;5;28mprint\u001b[39m(tup)\n",
      "\u001b[1;31mTypeError\u001b[0m: 'tuple' object is not callable"
     ]
    }
   ],
   "source": [
    "test_tup = (1, 5, 7, 8, 10)\n",
    "newlist = []\n",
    "print(len(test_tup)\n",
    "for i in test_tup:\n",
    "    newlist.append(test_tup(i)*test_tup(i+1))\n",
    "tup = tuple(newlist)\n",
    "print(tup)"
   ]
  },
  {
   "cell_type": "code",
   "execution_count": 34,
   "id": "4455bf07-4c71-49ee-87fa-c15d2244d436",
   "metadata": {},
   "outputs": [
    {
     "name": "stdin",
     "output_type": "stream",
     "text": [
      "enter the size of which tuple should be removed 2\n"
     ]
    },
    {
     "name": "stdout",
     "output_type": "stream",
     "text": [
      "[(4,), (8, 6, 7), (1,), (3, 4, 6, 7)]\n"
     ]
    }
   ],
   "source": [
    "#remove tuples of length k\n",
    "test_list = [(4, 5), (4, ), (8, 6, 7), (1, ), (3, 4, 6, 7)]\n",
    "k = int(input(\"enter the size of which tuple should be removed\"))\n",
    "for i in test_list:\n",
    "    if(len(i)==k):\n",
    "        test_list.remove(i)\n",
    "print(test_list)\n"
   ]
  },
  {
   "cell_type": "code",
   "execution_count": 41,
   "id": "21cf1fc1-e6c8-4625-a5b5-66cd8fc97d0f",
   "metadata": {},
   "outputs": [
    {
     "name": "stdout",
     "output_type": "stream",
     "text": [
      "[(None, 2), (3, 4), (12, 3)]\n"
     ]
    }
   ],
   "source": [
    "test_list = [(None, 2), (None, None), (3, 4), (12, 3), (None, )]\n",
    "res = []\n",
    "for i in test_list:\n",
    "    if not(i.count(None)==len(i)):\n",
    "        res.append(i)\n",
    "print(res)"
   ]
  },
  {
   "cell_type": "code",
   "execution_count": 43,
   "id": "1c496366-de94-4530-85b6-8fb3b229ff0d",
   "metadata": {},
   "outputs": [
    {
     "name": "stdout",
     "output_type": "stream",
     "text": [
      "{'Ten': 10, 'Twenty': 20, 'Thirty': 30}\n"
     ]
    }
   ],
   "source": [
    "#conert two list into a dictionary \n",
    "keys = ['Ten', 'Twenty', 'Thirty']\n",
    "values = [10, 20, 30]\n",
    "dicti = dict()\n",
    "for i in range(len(keys)):\n",
    "    dicti.update({keys[i]:values[i]})\n",
    "print(dicti)\n",
    "    "
   ]
  },
  {
   "cell_type": "code",
   "execution_count": 44,
   "id": "409b67c9-501b-419d-9ccf-4bc6cc5322f4",
   "metadata": {},
   "outputs": [
    {
     "name": "stdout",
     "output_type": "stream",
     "text": [
      "{'Ten': 10, 'Twenty': 20, 'Thirty': 30}\n"
     ]
    }
   ],
   "source": [
    "keys = ['Ten', 'Twenty', 'Thirty']\n",
    "values = [10, 20, 30]\n",
    "dicti = dict(zip(keys,values))\n",
    "print(dicti)"
   ]
  },
  {
   "cell_type": "code",
   "execution_count": 46,
   "id": "dd8ee7f3-31cb-4b45-93b6-9ff31876a96a",
   "metadata": {},
   "outputs": [
    {
     "name": "stdout",
     "output_type": "stream",
     "text": [
      "{'Ten': 10, 'Twenty': 20, 'Thirty': 30}\n",
      "{'Ten': 10, 'Twenty': 20, 'Thirty': 30, 'Fourty': 40, 'Fifty': 50}\n"
     ]
    }
   ],
   "source": [
    "#merge two dctionaries\n",
    "dict1 = {'Ten': 10, 'Twenty': 20, 'Thirty': 30}\n",
    "dict2 = {'Thirty': 30, 'Fourty': 40, 'Fifty': 50}\n",
    "dic3 = dict1.copy()\n",
    "print(dic3)\n",
    "dic3.update(dict2)\n",
    "print(dic3)"
   ]
  },
  {
   "cell_type": "code",
   "execution_count": 49,
   "id": "e8767b32-b0fb-428c-a9ab-bba21639fd6a",
   "metadata": {},
   "outputs": [
    {
     "name": "stdout",
     "output_type": "stream",
     "text": [
      "80\n"
     ]
    }
   ],
   "source": [
    "sampleDict = {\n",
    "    \"class\": {\n",
    "        \"student\": {\n",
    "            \"name\": \"Mike\",\n",
    "            \"marks\": {\n",
    "                \"physics\": 70,\n",
    "                \"history\": 80\n",
    "            }\n",
    "        }\n",
    "    }\n",
    "}\n",
    "print(sampleDict['class']['student']['marks']['history'])"
   ]
  },
  {
   "cell_type": "code",
   "execution_count": 50,
   "id": "96d554d0-df12-4d19-9aa7-b33ad3901c33",
   "metadata": {},
   "outputs": [
    {
     "ename": "ValueError",
     "evalue": "dictionary update sequence element #0 has length 5; 2 is required",
     "output_type": "error",
     "traceback": [
      "\u001b[1;31m---------------------------------------------------------------------------\u001b[0m",
      "\u001b[1;31mValueError\u001b[0m                                Traceback (most recent call last)",
      "Cell \u001b[1;32mIn[50], line 4\u001b[0m\n\u001b[0;32m      2\u001b[0m employees \u001b[38;5;241m=\u001b[39m [\u001b[38;5;124m'\u001b[39m\u001b[38;5;124mKelly\u001b[39m\u001b[38;5;124m'\u001b[39m, \u001b[38;5;124m'\u001b[39m\u001b[38;5;124mEmma\u001b[39m\u001b[38;5;124m'\u001b[39m]\n\u001b[0;32m      3\u001b[0m defaults \u001b[38;5;241m=\u001b[39m {\u001b[38;5;124m\"\u001b[39m\u001b[38;5;124mdesignation\u001b[39m\u001b[38;5;124m\"\u001b[39m: \u001b[38;5;124m'\u001b[39m\u001b[38;5;124mDeveloper\u001b[39m\u001b[38;5;124m'\u001b[39m, \u001b[38;5;124m\"\u001b[39m\u001b[38;5;124msalary\u001b[39m\u001b[38;5;124m\"\u001b[39m: \u001b[38;5;241m8000\u001b[39m}\n\u001b[1;32m----> 4\u001b[0m namedic \u001b[38;5;241m=\u001b[39m \u001b[38;5;28;43mdict\u001b[39;49m\u001b[43m(\u001b[49m\u001b[43memployees\u001b[49m\u001b[43m)\u001b[49m\n\u001b[0;32m      5\u001b[0m \u001b[38;5;28mprint\u001b[39m(namedic)\n",
      "\u001b[1;31mValueError\u001b[0m: dictionary update sequence element #0 has length 5; 2 is required"
     ]
    }
   ],
   "source": [
    "#Exercise 4: Initialize dictionary with default values\n",
    "employees = ['Kelly', 'Emma']\n",
    "defaults = {\"designation\": 'Developer', \"salary\": 8000}\n",
    "namedic = dict(employees)\n",
    "print(namedic)"
   ]
  },
  {
   "cell_type": "code",
   "execution_count": null,
   "id": "61b02f06-2595-4187-b643-dace814c95c4",
   "metadata": {},
   "outputs": [],
   "source": [
    "sample_dict = {\n",
    "    \"name\": \"Kelly\",\n",
    "    \"age\": 25,\n",
    "    \"salary\": 8000,\n",
    "    \"city\": \"New york\"}\n",
    "newkey = "
   ]
  },
  {
   "cell_type": "code",
   "execution_count": 7,
   "id": "9b184487-93ad-421a-8907-7cd629262c0a",
   "metadata": {},
   "outputs": [
    {
     "name": "stdout",
     "output_type": "stream",
     "text": [
      "present\n"
     ]
    }
   ],
   "source": [
    "d = {'suresh':98,'ramesh':76,'dinesh':87,'mahesh':89}\n",
    "for i in d.keys():\n",
    "    if(i=='suresh'):\n",
    "        print(\"present\")\n",
    "        break"
   ]
  },
  {
   "cell_type": "code",
   "execution_count": 11,
   "id": "e0f2aae8-f65d-48c9-9750-875fb3f24c13",
   "metadata": {},
   "outputs": [
    {
     "name": "stdin",
     "output_type": "stream",
     "text": [
      "which name you are looking for: dinesh\n"
     ]
    },
    {
     "name": "stdout",
     "output_type": "stream",
     "text": [
      "available\n"
     ]
    }
   ],
   "source": [
    "d = {'suresh':98,'ramesh':76,'dinesh':87,'mahesh':89}\n",
    "x = input(\"which name you are looking for:\")\n",
    "for i in d:\n",
    "    if(i==x):\n",
    "        print(\"available\")\n",
    "        break"
   ]
  },
  {
   "cell_type": "code",
   "execution_count": 12,
   "id": "f9cdbd25-f2d3-442b-8a96-1f72efe8a31b",
   "metadata": {},
   "outputs": [
    {
     "name": "stdin",
     "output_type": "stream",
     "text": [
      "which name you are looking for: ramesh\n"
     ]
    },
    {
     "name": "stdout",
     "output_type": "stream",
     "text": [
      "available\n"
     ]
    }
   ],
   "source": [
    "d = {'suresh':98,'ramesh':76,'dinesh':87,'mahesh':89}\n",
    "x = input(\"which name you are looking for:\")\n",
    "if x in d.keys():\n",
    "    print(\"available\")"
   ]
  },
  {
   "cell_type": "code",
   "execution_count": 13,
   "id": "b93da8a6-271c-44a2-b970-be02c10ff855",
   "metadata": {},
   "outputs": [
    {
     "name": "stdout",
     "output_type": "stream",
     "text": [
      "{'suresh': 98, 'ramesh': 76, 'dinesh': 87, 'mahesh': 89, 'raja': 87, 'pilot': 81}\n"
     ]
    }
   ],
   "source": [
    "d = {'suresh':98,'ramesh':76,'dinesh':87,'mahesh':89}\n",
    "d2 = {'raja':87,'pilot':81}\n",
    "d.update(d2)\n",
    "print(d)"
   ]
  },
  {
   "cell_type": "code",
   "execution_count": 14,
   "id": "3cb1d509-077c-4e21-9698-fb520229bfaf",
   "metadata": {},
   "outputs": [
    {
     "name": "stdout",
     "output_type": "stream",
     "text": [
      "4\n",
      "32\n",
      "96\n",
      "864\n"
     ]
    }
   ],
   "source": [
    "d = {'a':4,'b':8,'c':3,'d':9}\n",
    "mu = 1\n",
    "for i in d.values():\n",
    "    mu=mu*i\n",
    "    print(mu)"
   ]
  },
  {
   "cell_type": "code",
   "execution_count": 15,
   "id": "c2b246c0-2658-4b50-99fa-40ba8372b44f",
   "metadata": {},
   "outputs": [
    {
     "name": "stdout",
     "output_type": "stream",
     "text": [
      "100\n",
      "300\n",
      "600\n",
      "600\n"
     ]
    }
   ],
   "source": [
    "d = {'a': 100, 'b':200, 'c':300}\n",
    "sum = 0\n",
    "for i in d.values():\n",
    "    sum = sum+i\n",
    "    print(sum)\n",
    "print(sum)"
   ]
  },
  {
   "cell_type": "code",
   "execution_count": 20,
   "id": "db2c7c25-db8f-47d1-b2a2-77f734a44538",
   "metadata": {},
   "outputs": [
    {
     "name": "stdout",
     "output_type": "stream",
     "text": [
      "terrible\n",
      "alright\n"
     ]
    }
   ],
   "source": [
    "languages = [{'name':'python','speed':'slow','opinion':['terrible','mush']},{'name':'java','speed':'moderate','opinion':['alright','bizare']}]\n",
    "for i in range(len(languages)):\n",
    "    print(languages[i]['opinion'][0])"
   ]
  },
  {
   "cell_type": "code",
   "execution_count": 25,
   "id": "08fb96a4-965f-42de-b48a-a3a57768b4e8",
   "metadata": {},
   "outputs": [
    {
     "name": "stdout",
     "output_type": "stream",
     "text": [
      "ITC\n",
      "{'roll_no': 1001, 'age': 19, 'course': 'ITC', 'phone': 78798280}\n"
     ]
    }
   ],
   "source": [
    "student_data = {\"mohan\":{\"roll_no\":1001,\"age\":19,\"course\":\"ITC\"},\"satish\":{\"roll_no\":1002,\"age\":19,\"course\":\"DT\"}}\n",
    "print(student_data[\"mohan\"][\"course\"])\n",
    "student_data[\"mohan\"][\"phone\"]=78798280\n",
    "print(student_data[\"mohan\"])"
   ]
  },
  {
   "cell_type": "markdown",
   "id": "3496aae3-0979-421b-8a36-cfaba9f4a6a4",
   "metadata": {},
   "source": [
    " "
   ]
  },
  {
   "cell_type": "code",
   "execution_count": 16,
   "id": "957228ea-4762-4125-bc99-193b79bc315b",
   "metadata": {},
   "outputs": [
    {
     "name": "stdout",
     "output_type": "stream",
     "text": [
      "{'sem1': ['cct', 'des', 'maths', 'phy', 'jom'], 'sem2': ['desthinking', 'poe', 'fop', 'itc'], 'sem3': ['A', 'B', 'C', 'D', 'E']}\n"
     ]
    },
    {
     "name": "stdin",
     "output_type": "stream",
     "text": [
      "Enter COURSES to find the courses of semester:\n",
      " Enter SEM OF COURSE to find the semmester of given course:\n",
      " SEM OF COURSE\n",
      "which course you are looking for cct\n"
     ]
    },
    {
     "name": "stdout",
     "output_type": "stream",
     "text": [
      "the course you have entered is not introduced yet\n",
      "the course you have entered is not introduced yet\n",
      "the course you have entered is not introduced yet\n"
     ]
    }
   ],
   "source": [
    "list1 = ['sem1','sem2','sem3']\n",
    "list2 = [['cct','des','maths','phy','jom'],['desthinking','poe','fop','itc'],['A','B','C','D','E']]\n",
    "newlist = dict(zip(list1,list2))\n",
    "print(newlist)\n",
    "select = input(\"Enter COURSES to find the courses of semester:\\n Enter SEM OF COURSE to find the semmester of given course:\\n\")\n",
    "if(select == \"COURSES\"):\n",
    "    sem_input = input(\"Enter the semmester you wants to know the courses of(like: sem1,sem2,sem3):\")\n",
    "    for key, value in newlist.items():\n",
    "        if key == sem_input:\n",
    "            print(\"Courses of\", sem_input, \":\", value)\n",
    "            break\n",
    "elif(select == \"SEM OF COURSE\"):\n",
    "    course_input=input(\"which course you are looking for\")\n",
    "    for key,value in newlist.items():\n",
    "        if(value==course_input):\n",
    "            print(\"this course comes under:\",key)\n",
    "            break\n",
    "        else:\n",
    "            print(\"the course you have entered is not introduced yet\")\n",
    "            \n"
   ]
  },
  {
   "cell_type": "code",
   "execution_count": 5,
   "id": "57517667-f7e3-4573-a0cc-7c84e5e69857",
   "metadata": {},
   "outputs": [
    {
     "name": "stdout",
     "output_type": "stream",
     "text": [
      "[[44.79, -93.14, 285], [38.89, -77.03, 13]]\n",
      "[[44.79, -93.14, 285], [38.89, -77.03, 13], 'avantika', 'mit']\n"
     ]
    }
   ],
   "source": [
    "houses = {\n",
    "    (44.79,-93.14,285):'avantika',\n",
    "    (38.89,-77.03,13):'mit'\n",
    "}\n",
    "newlist = []\n",
    "for i in houses:\n",
    "    newlist.append(list(i))\n",
    "print(newlist)\n",
    "for j in houses.values():\n",
    "    newlist.append(j)\n",
    "print(newlist)"
   ]
  },
  {
   "cell_type": "markdown",
   "id": "d9e7ee1f-9380-442f-92ae-5b0faae52403",
   "metadata": {},
   "source": [
    "### PROBLEM_03 SOLUTION "
   ]
  },
  {
   "cell_type": "code",
   "execution_count": null,
   "id": "b392c663-9bcf-4c5e-bda6-418c4da7bc9d",
   "metadata": {},
   "outputs": [],
   "source": [
    "def step_out(waist_height):\n",
    "    ''' enter the amount of distance the player come out of the crease or stepped out in cm '''\n",
    "    stepOut = float(input(\"How much distance the batsman come out of crease:\"))\n",
    "    new_waist_height = waist_height + stepOut\n",
    "    return new_waist_height\n",
    "    \n",
    "def checkball(Team,player,ball_height):\n",
    "    waist_height = Team.get(player)\n",
    "    player_position = input(\"does the player step out:\")\n",
    "    print()\n",
    "    if(player_position=='no'):\n",
    "        if(ball_height>waist_height):\n",
    "            print(\"It is clearly a no ball\")\n",
    "            print()\n",
    "            print(f\"{player} waist height is {waist_height}cm and the ball height is {ball_height} cm which is greater than waist line\")\n",
    "            print()\n",
    "            print(f\"{ball_height} cm ball\")\n",
    "            print(\"------------------------\")\n",
    "            print()\n",
    "            print(f\"{waist_height} waist\")\n",
    "            print(\"-------------------------\")\n",
    "        elif(ball_height<waist_height):\n",
    "            print(\"It is a fair delivery, It is clearly below the waist line\")\n",
    "            print(f\"{waist_height}cm waist\")\n",
    "            print(\"-------------------------\")\n",
    "            print(f\"{ball_height} cm ball\")\n",
    "            print(\"------------------------\")\n",
    "            \n",
    "        else:\n",
    "            print(\"The ball height is equal to the waist height,Umpire you can stay with your decision,its umpires call\")\n",
    "    else:\n",
    "        new_waist_height = step_out(waist_height)\n",
    "        if(new_waist_height>ball_height):\n",
    "            print(\"It is clearly a fair delievery\")\n",
    "            print()\n",
    "            print(f\"The waist height is {new_waist_height}cm and ball height {ball_height}cm it is clearly below the waist line\")\n",
    "            print(f\"{new_waist_height}cm waist\")\n",
    "            print(\"-------------------------\")\n",
    "            print(f\"{ball_height} cm ball\")\n",
    "            print(\"------------------------\")\n",
    "        elif(new_waist_height<ball_height):\n",
    "            print(\"It is clearly a no ball\")\n",
    "            print()\n",
    "            print(f\"{player} waist height is {new_waist_height}cm and the ball height is {ball_height}cm which is greater than waist line\")\n",
    "            print(f\"{ball_height} cm ball\")\n",
    "            print(\"------------------------\")\n",
    "            print()\n",
    "            print(f\"{new_waist_height} waist\")\n",
    "            print(\"-------------------------\")\n",
    "        else:\n",
    "            print(\"The ball height is equal to the waist height,Umpire you can stay with your decision,its umpires call\")\n",
    "        \n",
    "\n",
    "\n",
    "def ballheight():\n",
    "    ''' give the ball height at the time of impact in cm'''\n",
    "    ball_height = float(input(\"Enter the height of ball at the point of impact:\"))\n",
    "    print()\n",
    "    return ball_height\n",
    "\n",
    "\n",
    "def player_name():\n",
    "    ''' give the player name of the team(like Rohit sharma, in lower caese) '''\n",
    "    player_name = input(\"Enter the player Name:\")\n",
    "    print()\n",
    "    return player_name\n",
    "\n",
    "\n",
    "def chooseteam(teamname):\n",
    "    ''' give the team name on whose player's dismissal review have been taken(like mumbai indians)'''\n",
    "    Team = teamname\n",
    "    player = player_name()\n",
    "    ball_height = ballheight()\n",
    "    checkball(Team,player,ball_height)\n",
    "\n",
    "\n",
    "def Teamname():\n",
    "    name = input(\"Which team the player belongs to:\")\n",
    "    print()\n",
    "    return name\n",
    "\n",
    "def team_list():\n",
    "    MI = [('rohit sharma', 86.36), ('surya kumar yadav', 81.28)]\n",
    "    RCB = [('virat kohli', 85.43), ('dinesh kartik', 76.2)]\n",
    "    DC = [('david warner', 76.2), ('prithvi shaw', 76.2)]\n",
    "    RR = [('jos buttler', 81), ('sanju samson', 76.2)]\n",
    "    KKR = [('sunil naraine', 86.36), ('shreyash iyer', 76.2)]\n",
    "    LSG = [('kl rahul', 76.2), ('de cock', 78.74)]\n",
    "    CSK = [('ms dhoni', 81.28), ('shivam dube', 88.9)]\n",
    "    SRH = [('trevis head', 81.28), ('pat cummins', 88.10)]\n",
    "    PBKS = [('shikhar dhavan', 81), ('livingstone', 78.74)]\n",
    "    GT = [('shubhman gill', 88), ('miller', 79)]\n",
    "    \n",
    "    ipl_team = {\n",
    "        'mumbai indians': dict(MI),\n",
    "        'royal challangers bangalore': dict(RCB),\n",
    "        'delhi capitals': dict(DC),\n",
    "        'rajasthan royals': dict(RR),\n",
    "        'kolkata knight riders': dict(KKR),\n",
    "        'lucknow super giants': dict(LSG),\n",
    "        'chennai super kings': dict(CSK),\n",
    "        'sun risers hyderabad': dict(SRH),\n",
    "        'punjab kings': dict(PBKS),\n",
    "        'gujrat titans': dict(GT)\n",
    "    }\n",
    "    name_of_team = Teamname()\n",
    "    for i in ipl_team:\n",
    "        if(name_of_team.lower()==i.lower()):\n",
    "            chooseteam(ipl_team[i])\n",
    "            break\n",
    "\n",
    "    \n",
    "    for team_name, players in ipl_team.items():\n",
    "        if Teamname == team_name:\n",
    "            chooseteam(players)\n",
    "            break  # Exit loop after printing team\n",
    "\n",
    "team_list()\n"
   ]
  }
 ],
 "metadata": {
  "kernelspec": {
   "display_name": "Python 3 (ipykernel)",
   "language": "python",
   "name": "python3"
  },
  "language_info": {
   "codemirror_mode": {
    "name": "ipython",
    "version": 3
   },
   "file_extension": ".py",
   "mimetype": "text/x-python",
   "name": "python",
   "nbconvert_exporter": "python",
   "pygments_lexer": "ipython3",
   "version": "3.12.3"
  }
 },
 "nbformat": 4,
 "nbformat_minor": 5
}
